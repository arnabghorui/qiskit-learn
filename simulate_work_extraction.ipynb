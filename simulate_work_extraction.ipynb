{
 "cells": [
  {
   "cell_type": "code",
   "execution_count": 48,
   "metadata": {},
   "outputs": [],
   "source": [
    "# libraries\n",
    "from qiskit.quantum_info import SparsePauliOp, DensityMatrix, Operator\n",
    "from qiskit import QuantumCircuit\n",
    "import numpy as np"
   ]
  },
  {
   "cell_type": "markdown",
   "metadata": {},
   "source": [
    "Observable/Hamiltonian"
   ]
  },
  {
   "cell_type": "code",
   "execution_count": null,
   "metadata": {},
   "outputs": [
    {
     "name": "stdout",
     "output_type": "stream",
     "text": [
      "SparsePauliOp(['III', 'ZII', 'IZI', 'IIZ'],\n",
      "              coeffs=[ 1.5+0.j, -0.5+0.j, -0.5+0.j, -0.5+0.j])\n"
     ]
    }
   ],
   "source": [
    "# number of qubits\n",
    "n = 3\n",
    "Hamiltonian = SparsePauliOp.from_sparse_list(\n",
    "    [(\"\",[], 1.5), (\"Z\", [2],-0.5), (\"Z\", [1],-0.5), (\"Z\", [0],-0.5)], num_qubits=n\n",
    ")\n",
    "print(Hamiltonian)"
   ]
  },
  {
   "cell_type": "code",
   "execution_count": 3,
   "metadata": {},
   "outputs": [
    {
     "data": {
      "text/plain": [
       "array([[0.+0.j, 0.+0.j, 0.+0.j, 0.+0.j, 0.+0.j, 0.+0.j, 0.+0.j, 0.+0.j],\n",
       "       [0.+0.j, 1.+0.j, 0.+0.j, 0.+0.j, 0.+0.j, 0.+0.j, 0.+0.j, 0.+0.j],\n",
       "       [0.+0.j, 0.+0.j, 1.+0.j, 0.+0.j, 0.+0.j, 0.+0.j, 0.+0.j, 0.+0.j],\n",
       "       [0.+0.j, 0.+0.j, 0.+0.j, 2.+0.j, 0.+0.j, 0.+0.j, 0.+0.j, 0.+0.j],\n",
       "       [0.+0.j, 0.+0.j, 0.+0.j, 0.+0.j, 1.+0.j, 0.+0.j, 0.+0.j, 0.+0.j],\n",
       "       [0.+0.j, 0.+0.j, 0.+0.j, 0.+0.j, 0.+0.j, 2.+0.j, 0.+0.j, 0.+0.j],\n",
       "       [0.+0.j, 0.+0.j, 0.+0.j, 0.+0.j, 0.+0.j, 0.+0.j, 2.+0.j, 0.+0.j],\n",
       "       [0.+0.j, 0.+0.j, 0.+0.j, 0.+0.j, 0.+0.j, 0.+0.j, 0.+0.j, 3.+0.j]])"
      ]
     },
     "execution_count": 3,
     "metadata": {},
     "output_type": "execute_result"
    }
   ],
   "source": [
    "# the observable in matrix form\n",
    "hamiltonianMatrix = Hamiltonian.to_matrix()\n",
    "hamiltonianMatrix"
   ]
  },
  {
   "cell_type": "code",
   "execution_count": 39,
   "metadata": {},
   "outputs": [],
   "source": [
    "#Input state\n",
    "phi1 =np.array([[1],[0],[0],[0],[0],[0],[0],[0]])\n",
    "phi1_trans = phi1.transpose()   \n",
    "phi2 =np.array([[0],[1],[0],[0],[0],[0],[0],[0]])\n",
    "phi2_trans = phi2.transpose()  \n",
    "phi3 =np.array([[0],[0],[1],[0],[0],[0],[0],[0]])\n",
    "phi3_trans = phi3.transpose()   \n",
    "phi4 = np.array([[0],[0],[0],[0],[1],[0],[0],[0]])\n",
    "phi4_trans = phi4.transpose() \n",
    "phi5 = np.array([[0],[0],[0],[1],[0],[0],[0],[0]])\n",
    "phi5_trans = phi5.transpose()   \n",
    "phi6 = np.array([[0],[0],[0],[0],[0],[1],[0],[0]])\n",
    "phi6_trans = phi6.transpose()  \n",
    "phi7 = np.array([[0],[0],[0],[0],[0],[0],[1],[0]])\n",
    "phi7_trans = phi7.transpose()   \n",
    "phi8 = np.array([[0],[0],[0],[0],[0],[0],[0],[1]])\n",
    "phi8_trans = phi8.transpose() \n",
    "rho1 = (1/3)*(np.matmul(phi1,phi1_trans)+np.matmul(phi1,phi2_trans)+np.matmul(phi1,phi3_trans)+np.matmul(phi2,phi1_trans)+np.matmul(phi2,phi2_trans)+np.matmul(phi2,phi3_trans)+np.matmul(phi3,phi1_trans)+np.matmul(phi3,phi2_trans)+np.matmul(phi3,phi3_trans))\n",
    "rho2 = (1/3)*(np.matmul(phi4,phi4_trans)-np.matmul(phi4,phi5_trans)+np.matmul(phi4,phi6_trans)-np.matmul(phi5,phi4_trans)+np.matmul(phi5,phi5_trans)-np.matmul(phi5,phi6_trans)+np.matmul(phi6,phi4_trans)-np.matmul(phi6,phi5_trans)+np.matmul(phi6,phi6_trans))\n",
    "rho3 = (1/2)*(np.matmul(phi7,phi7_trans)+np.matmul(phi8,phi8_trans))\n",
    "rho_n1 = (1/3)*(rho1+rho2+rho3)\n",
    "\n",
    "# rho_n1\n",
    "rho_n1 = DensityMatrix(rho_n1)"
   ]
  },
  {
   "cell_type": "code",
   "execution_count": 47,
   "metadata": {},
   "outputs": [
    {
     "name": "stdout",
     "output_type": "stream",
     "text": [
      "(64,)\n",
      "The purified state is \n",
      " [-1.45332012e-10+0.j  0.00000000e+00+0.j  0.00000000e+00+0.j\n",
      " -6.08163734e-09+0.j  0.00000000e+00+0.j  0.00000000e+00+0.j\n",
      "  3.33333333e-01+0.j  0.00000000e+00+0.j  2.69468376e-09+0.j\n",
      "  0.00000000e+00+0.j  0.00000000e+00+0.j  2.78800099e-09+0.j\n",
      "  0.00000000e+00+0.j  0.00000000e+00+0.j  3.33333333e-01+0.j\n",
      "  0.00000000e+00+0.j -2.54935175e-09+0.j  0.00000000e+00+0.j\n",
      "  0.00000000e+00+0.j  3.29363635e-09+0.j  0.00000000e+00+0.j\n",
      "  0.00000000e+00+0.j  3.33333333e-01+0.j  0.00000000e+00+0.j\n",
      "  0.00000000e+00+0.j -1.45332012e-10+0.j -6.08163734e-09+0.j\n",
      "  0.00000000e+00+0.j  0.00000000e+00+0.j  0.00000000e+00+0.j\n",
      "  0.00000000e+00+0.j  3.33333333e-01+0.j  0.00000000e+00+0.j\n",
      " -2.69468376e-09+0.j -2.78800099e-09+0.j  0.00000000e+00+0.j\n",
      "  0.00000000e+00+0.j  0.00000000e+00+0.j  0.00000000e+00+0.j\n",
      " -3.33333333e-01+0.j  0.00000000e+00+0.j  2.54935175e-09+0.j\n",
      " -3.29363635e-09+0.j  0.00000000e+00+0.j  0.00000000e+00+0.j\n",
      "  0.00000000e+00+0.j  0.00000000e+00+0.j -3.33333333e-01+0.j\n",
      "  0.00000000e+00+0.j  0.00000000e+00+0.j  0.00000000e+00+0.j\n",
      "  0.00000000e+00+0.j  4.08248290e-01+0.j  0.00000000e+00+0.j\n",
      "  0.00000000e+00+0.j  0.00000000e+00+0.j  0.00000000e+00+0.j\n",
      "  0.00000000e+00+0.j  0.00000000e+00+0.j  0.00000000e+00+0.j\n",
      "  0.00000000e+00+0.j  4.08248290e-01+0.j  0.00000000e+00+0.j\n",
      "  0.00000000e+00+0.j]\n",
      "Verify the reduction to the original mixed state \n",
      " [[ 0.11111111+0.j  0.11111111+0.j  0.11111111+0.j  0.        +0.j\n",
      "   0.        +0.j  0.        +0.j  0.        +0.j  0.        +0.j]\n",
      " [ 0.11111111+0.j  0.11111111+0.j  0.11111111+0.j  0.        +0.j\n",
      "   0.        +0.j  0.        +0.j  0.        +0.j  0.        +0.j]\n",
      " [ 0.11111111+0.j  0.11111111+0.j  0.11111111+0.j  0.        +0.j\n",
      "   0.        +0.j  0.        +0.j  0.        +0.j  0.        +0.j]\n",
      " [ 0.        +0.j  0.        +0.j  0.        +0.j  0.11111111+0.j\n",
      "  -0.11111111+0.j -0.11111111+0.j  0.        +0.j  0.        +0.j]\n",
      " [ 0.        +0.j  0.        +0.j  0.        +0.j -0.11111111+0.j\n",
      "   0.11111111+0.j  0.11111111+0.j  0.        +0.j  0.        +0.j]\n",
      " [ 0.        +0.j  0.        +0.j  0.        +0.j -0.11111111+0.j\n",
      "   0.11111111+0.j  0.11111111+0.j  0.        +0.j  0.        +0.j]\n",
      " [ 0.        +0.j  0.        +0.j  0.        +0.j  0.        +0.j\n",
      "   0.        +0.j  0.        +0.j  0.16666667+0.j  0.        +0.j]\n",
      " [ 0.        +0.j  0.        +0.j  0.        +0.j  0.        +0.j\n",
      "   0.        +0.j  0.        +0.j  0.        +0.j  0.16666667+0.j]]\n"
     ]
    }
   ],
   "source": [
    "# Purification of the density matrix\n",
    "\n",
    "# Diagonalize the matrix\n",
    "rho_eig_val, rho_eig_vec = np.linalg.eigh(rho_n1)\n",
    "\n",
    "p_vec = np.concatenate((np.sqrt(rho_eig_val), np.sqrt(rho_eig_val), np.sqrt(rho_eig_val), np.sqrt(rho_eig_val), np.sqrt(rho_eig_val), np.sqrt(rho_eig_val), np.sqrt(rho_eig_val), np.sqrt(rho_eig_val) ), axis=0)\n",
    "\n",
    "# print(eigenvectors.shape)\n",
    "U_vec = rho_eig_vec.reshape((64))\n",
    "psi = p_vec * U_vec\n",
    "print(psi.shape)\n",
    "print('The purified state is \\n', psi)\n",
    "rho_partial_trace = np.dot(psi.reshape((8,8)),psi.reshape((8,8)).transpose())\n",
    "print('Verify the reduction to the original mixed state \\n', rho_partial_trace)"
   ]
  },
  {
   "cell_type": "code",
   "execution_count": 54,
   "metadata": {},
   "outputs": [
    {
     "data": {
      "image/png": "[encoded data removed]",
      "text/plain": [
       "<Figure size 789.163x535.111 with 1 Axes>"
      ]
     },
     "execution_count": 54,
     "metadata": {},
     "output_type": "execute_result"
    }
   ],
   "source": [
    "qc = QuantumCircuit(6)\n",
    "qc.initialize(psi, [0,1,2,3,4,5])\n",
    "qc.draw('mpl')"
   ]
  },
  {
   "cell_type": "code",
   "execution_count": null,
   "metadata": {},
   "outputs": [],
   "source": [
    "# measurement\n",
    "''' since we only measure in Pauli Z basis, to measure the hamiltonian,\n",
    "    we need to change the basis, into the eigenbasis of Hamiltonian\n",
    "'''\n",
    "\n"
   ]
  }
 ],
 "metadata": {
  "kernelspec": {
   "display_name": "qiskit",
   "language": "python",
   "name": "python3"
  },
  "language_info": {
   "codemirror_mode": {
    "name": "ipython",
    "version": 3
   },
   "file_extension": ".py",
   "mimetype": "text/x-python",
   "name": "python",
   "nbconvert_exporter": "python",
   "pygments_lexer": "ipython3",
   "version": "3.13.0"
  }
 },
 "nbformat": 4,
 "nbformat_minor": 2
}
