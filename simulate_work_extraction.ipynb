{
 "cells": [
  {
   "cell_type": "code",
   "execution_count": 48,
   "metadata": {},
   "outputs": [],
   "source": [
    "# libraries\n",
    "from qiskit.quantum_info import SparsePauliOp, DensityMatrix, Operator\n",
    "from qiskit import QuantumCircuit\n",
    "import numpy as np"
   ]
  },
  {
   "cell_type": "markdown",
   "metadata": {},
   "source": [
    "Observable/Hamiltonian"
   ]
  },
  {
   "cell_type": "code",
   "execution_count": null,
   "metadata": {},
   "outputs": [
    {
     "name": "stdout",
     "output_type": "stream",
     "text": [
      "SparsePauliOp(['III', 'ZII', 'IZI', 'IIZ'],\n",
      "              coeffs=[ 1.5+0.j, -0.5+0.j, -0.5+0.j, -0.5+0.j])\n"
     ]
    }
   ],
   "source": [
    "# number of qubits\n",
    "n = 3\n",
    "Hamiltonian = SparsePauliOp.from_sparse_list(\n",
    "    [(\"\",[], 1.5), (\"Z\", [2],-0.5), (\"Z\", [1],-0.5), (\"Z\", [0],-0.5)], num_qubits=n\n",
    ")\n",
    "print(Hamiltonian)"
   ]
  },
  {
   "cell_type": "code",
   "execution_count": 3,
   "metadata": {},
   "outputs": [
    {
     "data": {
      "text/plain": [
       "array([[0.+0.j, 0.+0.j, 0.+0.j, 0.+0.j, 0.+0.j, 0.+0.j, 0.+0.j, 0.+0.j],\n",
       "       [0.+0.j, 1.+0.j, 0.+0.j, 0.+0.j, 0.+0.j, 0.+0.j, 0.+0.j, 0.+0.j],\n",
       "       [0.+0.j, 0.+0.j, 1.+0.j, 0.+0.j, 0.+0.j, 0.+0.j, 0.+0.j, 0.+0.j],\n",
       "       [0.+0.j, 0.+0.j, 0.+0.j, 2.+0.j, 0.+0.j, 0.+0.j, 0.+0.j, 0.+0.j],\n",
       "       [0.+0.j, 0.+0.j, 0.+0.j, 0.+0.j, 1.+0.j, 0.+0.j, 0.+0.j, 0.+0.j],\n",
       "       [0.+0.j, 0.+0.j, 0.+0.j, 0.+0.j, 0.+0.j, 2.+0.j, 0.+0.j, 0.+0.j],\n",
       "       [0.+0.j, 0.+0.j, 0.+0.j, 0.+0.j, 0.+0.j, 0.+0.j, 2.+0.j, 0.+0.j],\n",
       "       [0.+0.j, 0.+0.j, 0.+0.j, 0.+0.j, 0.+0.j, 0.+0.j, 0.+0.j, 3.+0.j]])"
      ]
     },
     "execution_count": 3,
     "metadata": {},
     "output_type": "execute_result"
    }
   ],
   "source": [
    "# the observable in matrix form\n",
    "hamiltonianMatrix = Hamiltonian.to_matrix()\n",
    "hamiltonianMatrix"
   ]
  },
  {
   "cell_type": "code",
   "execution_count": 39,
   "metadata": {},
   "outputs": [],
   "source": [
    "#Input state\n",
    "phi1 =np.array([[1],[0],[0],[0],[0],[0],[0],[0]])\n",
    "phi1_trans = phi1.transpose()   \n",
    "phi2 =np.array([[0],[1],[0],[0],[0],[0],[0],[0]])\n",
    "phi2_trans = phi2.transpose()  \n",
    "phi3 =np.array([[0],[0],[1],[0],[0],[0],[0],[0]])\n",
    "phi3_trans = phi3.transpose()   \n",
    "phi4 = np.array([[0],[0],[0],[0],[1],[0],[0],[0]])\n",
    "phi4_trans = phi4.transpose() \n",
    "phi5 = np.array([[0],[0],[0],[1],[0],[0],[0],[0]])\n",
    "phi5_trans = phi5.transpose()   \n",
    "phi6 = np.array([[0],[0],[0],[0],[0],[1],[0],[0]])\n",
    "phi6_trans = phi6.transpose()  \n",
    "phi7 = np.array([[0],[0],[0],[0],[0],[0],[1],[0]])\n",
    "phi7_trans = phi7.transpose()   \n",
    "phi8 = np.array([[0],[0],[0],[0],[0],[0],[0],[1]])\n",
    "phi8_trans = phi8.transpose() \n",
    "rho1 = (1/3)*(np.matmul(phi1,phi1_trans)+np.matmul(phi1,phi2_trans)+np.matmul(phi1,phi3_trans)+np.matmul(phi2,phi1_trans)+np.matmul(phi2,phi2_trans)+np.matmul(phi2,phi3_trans)+np.matmul(phi3,phi1_trans)+np.matmul(phi3,phi2_trans)+np.matmul(phi3,phi3_trans))\n",
    "rho2 = (1/3)*(np.matmul(phi4,phi4_trans)-np.matmul(phi4,phi5_trans)+np.matmul(phi4,phi6_trans)-np.matmul(phi5,phi4_trans)+np.matmul(phi5,phi5_trans)-np.matmul(phi5,phi6_trans)+np.matmul(phi6,phi4_trans)-np.matmul(phi6,phi5_trans)+np.matmul(phi6,phi6_trans))\n",
    "rho3 = (1/2)*(np.matmul(phi7,phi7_trans)+np.matmul(phi8,phi8_trans))\n",
    "rho_n1 = (1/3)*(rho1+rho2+rho3)\n",
    "\n",
    "# rho_n1\n",
    "rho_n1 = DensityMatrix(rho_n1)"
   ]
  },
  {
   "cell_type": "code",
   "execution_count": 47,
   "metadata": {},
   "outputs": [
    {
     "name": "stdout",
     "output_type": "stream",
     "text": [
      "(64,)\n",
      "The purified state is \n",
      " [-1.45332012e-10+0.j  0.00000000e+00+0.j  0.00000000e+00+0.j\n",
      " -6.08163734e-09+0.j  0.00000000e+00+0.j  0.00000000e+00+0.j\n",
      "  3.33333333e-01+0.j  0.00000000e+00+0.j  2.69468376e-09+0.j\n",
      "  0.00000000e+00+0.j  0.00000000e+00+0.j  2.78800099e-09+0.j\n",
      "  0.00000000e+00+0.j  0.00000000e+00+0.j  3.33333333e-01+0.j\n",
      "  0.00000000e+00+0.j -2.54935175e-09+0.j  0.00000000e+00+0.j\n",
      "  0.00000000e+00+0.j  3.29363635e-09+0.j  0.00000000e+00+0.j\n",
      "  0.00000000e+00+0.j  3.33333333e-01+0.j  0.00000000e+00+0.j\n",
      "  0.00000000e+00+0.j -1.45332012e-10+0.j -6.08163734e-09+0.j\n",
      "  0.00000000e+00+0.j  0.00000000e+00+0.j  0.00000000e+00+0.j\n",
      "  0.00000000e+00+0.j  3.33333333e-01+0.j  0.00000000e+00+0.j\n",
      " -2.69468376e-09+0.j -2.78800099e-09+0.j  0.00000000e+00+0.j\n",
      "  0.00000000e+00+0.j  0.00000000e+00+0.j  0.00000000e+00+0.j\n",
      " -3.33333333e-01+0.j  0.00000000e+00+0.j  2.54935175e-09+0.j\n",
      " -3.29363635e-09+0.j  0.00000000e+00+0.j  0.00000000e+00+0.j\n",
      "  0.00000000e+00+0.j  0.00000000e+00+0.j -3.33333333e-01+0.j\n",
      "  0.00000000e+00+0.j  0.00000000e+00+0.j  0.00000000e+00+0.j\n",
      "  0.00000000e+00+0.j  4.08248290e-01+0.j  0.00000000e+00+0.j\n",
      "  0.00000000e+00+0.j  0.00000000e+00+0.j  0.00000000e+00+0.j\n",
      "  0.00000000e+00+0.j  0.00000000e+00+0.j  0.00000000e+00+0.j\n",
      "  0.00000000e+00+0.j  4.08248290e-01+0.j  0.00000000e+00+0.j\n",
      "  0.00000000e+00+0.j]\n",
      "Verify the reduction to the original mixed state \n",
      " [[ 0.11111111+0.j  0.11111111+0.j  0.11111111+0.j  0.        +0.j\n",
      "   0.        +0.j  0.        +0.j  0.        +0.j  0.        +0.j]\n",
      " [ 0.11111111+0.j  0.11111111+0.j  0.11111111+0.j  0.        +0.j\n",
      "   0.        +0.j  0.        +0.j  0.        +0.j  0.        +0.j]\n",
      " [ 0.11111111+0.j  0.11111111+0.j  0.11111111+0.j  0.        +0.j\n",
      "   0.        +0.j  0.        +0.j  0.        +0.j  0.        +0.j]\n",
      " [ 0.        +0.j  0.        +0.j  0.        +0.j  0.11111111+0.j\n",
      "  -0.11111111+0.j -0.11111111+0.j  0.        +0.j  0.        +0.j]\n",
      " [ 0.        +0.j  0.        +0.j  0.        +0.j -0.11111111+0.j\n",
      "   0.11111111+0.j  0.11111111+0.j  0.        +0.j  0.        +0.j]\n",
      " [ 0.        +0.j  0.        +0.j  0.        +0.j -0.11111111+0.j\n",
      "   0.11111111+0.j  0.11111111+0.j  0.        +0.j  0.        +0.j]\n",
      " [ 0.        +0.j  0.        +0.j  0.        +0.j  0.        +0.j\n",
      "   0.        +0.j  0.        +0.j  0.16666667+0.j  0.        +0.j]\n",
      " [ 0.        +0.j  0.        +0.j  0.        +0.j  0.        +0.j\n",
      "   0.        +0.j  0.        +0.j  0.        +0.j  0.16666667+0.j]]\n"
     ]
    }
   ],
   "source": [
    "# Purification of the density matrix\n",
    "\n",
    "# Diagonalize the matrix\n",
    "rho_eig_val, rho_eig_vec = np.linalg.eigh(rho_n1)\n",
    "\n",
    "p_vec = np.concatenate((np.sqrt(rho_eig_val), np.sqrt(rho_eig_val), np.sqrt(rho_eig_val), np.sqrt(rho_eig_val), np.sqrt(rho_eig_val), np.sqrt(rho_eig_val), np.sqrt(rho_eig_val), np.sqrt(rho_eig_val) ), axis=0)\n",
    "\n",
    "# print(eigenvectors.shape)\n",
    "U_vec = rho_eig_vec.reshape((64))\n",
    "psi = p_vec * U_vec\n",
    "print(psi.shape)\n",
    "print('The purified state is \\n', psi)\n",
    "rho_partial_trace = np.dot(psi.reshape((8,8)),psi.reshape((8,8)).transpose())\n",
    "print('Verify the reduction to the original mixed state \\n', rho_partial_trace)"
   ]
  },
  {
   "cell_type": "code",
   "execution_count": 54,
   "metadata": {},
   "outputs": [
    {
     "data": {
      "image/png": "[encoded data removed]",
      "text/plain": [
       "<Figure size 789.163x535.111 with 1 Axes>"
      ]
     },
     "execution_count": 54,
     "metadata": {},
     "output_type": "execute_result"
    }
   ],
   "source": [
    "qc = QuantumCircuit(6)\n",
    "qc.initialize(psi, [0,1,2,3,4,5])\n",
    "qc.draw('mpl')"
   ]
  },
  {
   "cell_type": "code",
   "execution_count": null,
   "metadata": {},
   "outputs": [],
   "source": [
    "# measurement\n",
    "''' since we only measure in Pauli Z basis, to measure the hamiltonian,\n",
    "    we need to change the basis, into the eigenbasis of Hamiltonian.\n",
    "    '''"
   ]
  },
  {
   "cell_type": "markdown",
   "metadata": {},
   "source": [
    "> But can all valid observables be measured in practice? The answer to this depends on the quantum system under consideration. In this tutorial, the system under consideration is an IBM quantum processor. And in these processors only measurements onto the computational basis are supported natively. Measurements to other basis states can be performed by applying an appropriate unitary transformation before measurement. Suppose that the hardware only lets us do measurements onto the computational basis {$\\ket i$} but we want to perform a measurement onto the basis set {$\\ket{\\Phi_i}$}. This problem can be solved if we can implement the following unitary transformation, $U = \\sum_i \\ket i \\bra{\\Phi_i}$\n",
    "\n",
    "Refer to https://arxiv.org/pdf/1804.03719 pp. 10"
   ]
  },
  {
   "cell_type": "code",
   "execution_count": 73,
   "metadata": {},
   "outputs": [],
   "source": [
    "# change of basis into the eigenbasis of Hamiltonian\n",
    "\n",
    "dim = 8\n",
    "standard_basis_vectors = [np.eye(dim)[:, i] for i in range(dim)]\n",
    "\n",
    "phi_states = [eigenvectors[:, i] for i in range(eigenvectors.shape[1])]\n",
    "\n",
    "U_basis_change = sum(np.outer(basis_vectors[i], phi_states[i].conj()) for i in range(dim))\n",
    "\n",
    "# U_basis_change"
   ]
  },
  {
   "cell_type": "code",
   "execution_count": null,
   "metadata": {},
   "outputs": [
    {
     "data": {
      "image/png": "[encoded data removed]",
      "text/plain": [
       "<Figure size 1290.83x535.111 with 1 Axes>"
      ]
     },
     "execution_count": 72,
     "metadata": {},
     "output_type": "execute_result"
    }
   ],
   "source": [
    "'''\n",
    "implement U_basis_change\n",
    "Comment:  Not sure, if this is implementable in IBM. Need to specify universal gates.\n",
    "\n",
    "'''\n",
    "U_basis_change_op = Operator(U_basis_change)\n",
    "\n",
    "qc.unitary(U_basis_change_op, [0,1,2], label=\"Basis Change\")\n",
    "qc.draw('mpl')"
   ]
  }
 ],
 "metadata": {
  "kernelspec": {
   "display_name": "qiskit",
   "language": "python",
   "name": "python3"
  },
  "language_info": {
   "codemirror_mode": {
    "name": "ipython",
    "version": 3
   },
   "file_extension": ".py",
   "mimetype": "text/x-python",
   "name": "python",
   "nbconvert_exporter": "python",
   "pygments_lexer": "ipython3",
   "version": "3.13.0"
  }
 },
 "nbformat": 4,
 "nbformat_minor": 2
}
