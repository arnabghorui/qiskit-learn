{
 "cells": [
  {
   "cell_type": "code",
   "execution_count": 2,
   "metadata": {},
   "outputs": [],
   "source": [
    "import numpy as np\n",
    "import matplotlib.pyplot as plt\n",
    "from qutip import *"
   ]
  },
  {
   "cell_type": "markdown",
   "metadata": {},
   "source": [
    "$\\rho$\n",
    "\n",
    "TODO: add matrix elements"
   ]
  },
  {
   "cell_type": "code",
   "execution_count": 3,
   "metadata": {},
   "outputs": [
    {
     "data": {
      "text/latex": [
       "Quantum object: dims=[[8], [8]], shape=(8, 8), type='oper', dtype=Dense, isherm=True$$\\left(\\begin{array}{cc}0.111 & 0.111 & 0.111 & 0 & 0 & 0 & 0 & 0\\\\0.111 & 0.111 & 0.111 & 0 & 0 & 0 & 0 & 0\\\\0.111 & 0.111 & 0.111 & 0 & 0 & 0 & 0 & 0\\\\0 & 0 & 0 & 0.111 & -0.111 & -0.111 & 0 & 0\\\\0 & 0 & 0 & -0.111 & 0.111 & 0.111 & 0 & 0\\\\0 & 0 & 0 & -0.111 & 0.111 & 0.111 & 0 & 0\\\\0 & 0 & 0 & 0 & 0 & 0 & 0.167 & 0\\\\0 & 0 & 0 & 0 & 0 & 0 & 0 & 0.167\\end{array}\\right)$$"
      ],
      "text/plain": [
       "Quantum object: dims=[[8], [8]], shape=(8, 8), type='oper', dtype=Dense, isherm=True\n",
       "Qobj data =\n",
       "[[ 0.11111111  0.11111111  0.11111111  0.          0.          0.\n",
       "   0.          0.        ]\n",
       " [ 0.11111111  0.11111111  0.11111111  0.          0.          0.\n",
       "   0.          0.        ]\n",
       " [ 0.11111111  0.11111111  0.11111111  0.          0.          0.\n",
       "   0.          0.        ]\n",
       " [ 0.          0.          0.          0.11111111 -0.11111111 -0.11111111\n",
       "   0.          0.        ]\n",
       " [ 0.          0.          0.         -0.11111111  0.11111111  0.11111111\n",
       "   0.          0.        ]\n",
       " [ 0.          0.          0.         -0.11111111  0.11111111  0.11111111\n",
       "   0.          0.        ]\n",
       " [ 0.          0.          0.          0.          0.          0.\n",
       "   0.16666667  0.        ]\n",
       " [ 0.          0.          0.          0.          0.          0.\n",
       "   0.          0.16666667]]"
      ]
     },
     "execution_count": 3,
     "metadata": {},
     "output_type": "execute_result"
    }
   ],
   "source": [
    "rho1 = (1/3)*np.array([[1, 1, 1, 0, 0, 0, 0, 0],\n",
    "                  [1, 1, 1, 0, 0, 0, 0, 0],\n",
    "                  [1, 1, 1, 0, 0, 0, 0, 0],\n",
    "                  [0, 0, 0, 0, 0, 0, 0, 0],\n",
    "                  [0, 0, 0, 0, 0, 0, 0, 0],\n",
    "                  [0, 0, 0, 0, 0, 0, 0, 0],\n",
    "                  [0, 0, 0, 0, 0, 0, 0, 0],\n",
    "                  [0, 0, 0, 0, 0, 0, 0, 0]])\n",
    "\n",
    "rho2 = (1/3)*np.array([[0, 0, 0, 0, 0, 0, 0, 0],\n",
    "                  [0, 0, 0, 0, 0, 0, 0, 0],\n",
    "                  [0, 0, 0, 0, 0, 0, 0, 0],\n",
    "                  [0, 0, 0, 1, -1, -1, 0, 0],\n",
    "                  [0, 0, 0, -1, 1, 1, 0, 0],\n",
    "                  [0, 0, 0, -1, 1, 1, 0, 0],\n",
    "                  [0, 0, 0, 0, 0, 0, 0, 0],\n",
    "                  [0, 0, 0, 0, 0, 0, 0, 0]]) \n",
    "\n",
    "rho3 = (1/2)*np.array([[0, 0, 0, 0, 0, 0, 0, 0],\n",
    "                  [0, 0, 0, 0, 0, 0, 0, 0],\n",
    "                  [0, 0, 0, 0, 0, 0, 0, 0],\n",
    "                  [0, 0, 0, 0, 0, 0, 0, 0],\n",
    "                  [0, 0, 0, 0, 0, 0, 0, 0],\n",
    "                  [0, 0, 0, 0, 0, 0, 0, 0],\n",
    "                  [0, 0, 0, 0, 0, 0, 1, 0],\n",
    "                  [0, 0, 0, 0, 0, 0, 0, 1]]) \n",
    "\n",
    "rho = Qobj((1/3)*(rho1 + rho2 + rho3))\n",
    "\n",
    "rho\n",
    "\n"
   ]
  },
  {
   "cell_type": "markdown",
   "metadata": {},
   "source": [
    "# Hamiltonian\n",
    "\n",
    "$H^{(8)}=H \\otimes \\mathbb I \\otimes \\mathbb I  + \\mathbb I \\otimes H \\otimes \\mathbb I + \\mathbb I \\otimes\\mathbb I \\otimes H$, where $H = \\frac{1}{2} (\\mathbb I - Z)$"
   ]
  },
  {
   "cell_type": "code",
   "execution_count": 4,
   "metadata": {},
   "outputs": [
    {
     "data": {
      "text/latex": [
       "Quantum object: dims=[[8], [8]], shape=(8, 8), type='oper', dtype=Dense, isherm=True$$\\left(\\begin{array}{cc}0 & 0 & 0 & 0 & 0 & 0 & 0 & 0\\\\0 & 1 & 0 & 0 & 0 & 0 & 0 & 0\\\\0 & 0 & 1 & 0 & 0 & 0 & 0 & 0\\\\0 & 0 & 0 & 2 & 0 & 0 & 0 & 0\\\\0 & 0 & 0 & 0 & 1 & 0 & 0 & 0\\\\0 & 0 & 0 & 0 & 0 & 2 & 0 & 0\\\\0 & 0 & 0 & 0 & 0 & 0 & 2 & 0\\\\0 & 0 & 0 & 0 & 0 & 0 & 0 & 3\\end{array}\\right)$$"
      ],
      "text/plain": [
       "Quantum object: dims=[[8], [8]], shape=(8, 8), type='oper', dtype=Dense, isherm=True\n",
       "Qobj data =\n",
       "[[0. 0. 0. 0. 0. 0. 0. 0.]\n",
       " [0. 1. 0. 0. 0. 0. 0. 0.]\n",
       " [0. 0. 1. 0. 0. 0. 0. 0.]\n",
       " [0. 0. 0. 2. 0. 0. 0. 0.]\n",
       " [0. 0. 0. 0. 1. 0. 0. 0.]\n",
       " [0. 0. 0. 0. 0. 2. 0. 0.]\n",
       " [0. 0. 0. 0. 0. 0. 2. 0.]\n",
       " [0. 0. 0. 0. 0. 0. 0. 3.]]"
      ]
     },
     "execution_count": 4,
     "metadata": {},
     "output_type": "execute_result"
    }
   ],
   "source": [
    "I = np.eye(2)\n",
    "Z = np.array([[1, 0], [0, -1]])\n",
    "h = (1/2)*(I-Z)\n",
    "\n",
    "H = np.kron(h, np.kron(I,I)) + np.kron(I, np.kron(h,I)) + np.kron(I, np.kron(I,h))\n",
    "H = Qobj(H)\n",
    "H"
   ]
  },
  {
   "cell_type": "markdown",
   "metadata": {},
   "source": [
    "Initial energy of the state = $\\frac{29}{18} = 1.611111..$"
   ]
  },
  {
   "cell_type": "code",
   "execution_count": 5,
   "metadata": {},
   "outputs": [
    {
     "data": {
      "text/plain": [
       "1.6111111111111112"
      ]
     },
     "execution_count": 5,
     "metadata": {},
     "output_type": "execute_result"
    }
   ],
   "source": [
    "# Initial Energy of the state\n",
    "E_init = (rho*H).tr()\n",
    "E_init.real"
   ]
  },
  {
   "cell_type": "code",
   "execution_count": 32,
   "metadata": {},
   "outputs": [
    {
     "data": {
      "text/latex": [
       "Quantum object: dims=[[8], [8]], shape=(8, 8), type='oper', dtype=Dense, isherm=True$$\\left(\\begin{array}{cc}0.333 & 0 & 0 & 0 & 0 & 0 & 0 & 0\\\\0 & 0.333 & 0 & 0 & 0 & 0 & 0 & 0\\\\0 & 0 & 0.167 & 0 & 0 & 0 & 0 & 0\\\\0 & 0 & 0 & 0 & 0 & 0 & 0 & 0\\\\0 & 0 & 0 & 0 & 0.167 & 0 & 0 & 0\\\\0 & 0 & 0 & 0 & 0 & 0 & 0 & 0\\\\0 & 0 & 0 & 0 & 0 & 0 & 0 & 0\\\\0 & 0 & 0 & 0 & 0 & 0 & 0 & 0\\end{array}\\right)$$"
      ],
      "text/plain": [
       "Quantum object: dims=[[8], [8]], shape=(8, 8), type='oper', dtype=Dense, isherm=True\n",
       "Qobj data =\n",
       "[[0.33333333 0.         0.         0.         0.         0.\n",
       "  0.         0.        ]\n",
       " [0.         0.33333333 0.         0.         0.         0.\n",
       "  0.         0.        ]\n",
       " [0.         0.         0.16666667 0.         0.         0.\n",
       "  0.         0.        ]\n",
       " [0.         0.         0.         0.         0.         0.\n",
       "  0.         0.        ]\n",
       " [0.         0.         0.         0.         0.16666667 0.\n",
       "  0.         0.        ]\n",
       " [0.         0.         0.         0.         0.         0.\n",
       "  0.         0.        ]\n",
       " [0.         0.         0.         0.         0.         0.\n",
       "  0.         0.        ]\n",
       " [0.         0.         0.         0.         0.         0.\n",
       "  0.         0.        ]]"
      ]
     },
     "execution_count": 32,
     "metadata": {},
     "output_type": "execute_result"
    }
   ],
   "source": [
    "# minimum energy state\n",
    "rho_p = np.zeros((8,8))\n",
    "for i in range(2):\n",
    "    rho_p[i][i] += 1/3\n",
    "\n",
    "rho_p[2][2] = 1/6\n",
    "rho_p[4][4] = 1/6\n",
    "rho_p = Qobj(rho_p)\n",
    "rho_p"
   ]
  },
  {
   "cell_type": "code",
   "execution_count": 34,
   "metadata": {},
   "outputs": [
    {
     "data": {
      "text/plain": [
       "0.6666666666666666"
      ]
     },
     "execution_count": 34,
     "metadata": {},
     "output_type": "execute_result"
    }
   ],
   "source": [
    "E_min = (rho_p*H).tr()\n",
    "E_min"
   ]
  },
  {
   "cell_type": "code",
   "execution_count": 35,
   "metadata": {},
   "outputs": [
    {
     "data": {
      "text/plain": [
       "(0.9444444444444445+0j)"
      ]
     },
     "execution_count": 35,
     "metadata": {},
     "output_type": "execute_result"
    }
   ],
   "source": [
    "ergotropy = E_init - E_min\n",
    "ergotropy"
   ]
  },
  {
   "cell_type": "markdown",
   "metadata": {},
   "source": [
    "# Entangling measurements in computational basis"
   ]
  },
  {
   "cell_type": "markdown",
   "metadata": {},
   "source": [
    "Bell states\n",
    "\\begin{align*}\n",
    "       &\\ket{\\Phi_+}=\\frac{1}{\\sqrt{2}}\\left(\\ket{00}+\\ket{11}\\right);\n",
    "       \\ket{\\Phi_-}=\\frac{1}{\\sqrt{2}}\\left(\\ket{00}-\\ket{11}\\right);\\\\\n",
    "       &\\ket{\\Psi_+} = \\frac{1}{\\sqrt{2}}\\left(\\ket{01}+\\ket{10}\\right);\n",
    "       \\ket{\\Psi_-} = \\frac{1}{\\sqrt{2}}\\left(\\ket{01}-\\ket{10}\\right).\n",
    "   \\end{align*}"
   ]
  },
  {
   "cell_type": "code",
   "execution_count": 65,
   "metadata": {},
   "outputs": [],
   "source": [
    "phi_plus, phi_minus, psi_plus, psi_minus = bell_state('00'), bell_state('01'), bell_state('10'), bell_state('11')\n",
    "phi_plus, phi_minus, psi_plus, psi_minus = Qobj(phi_plus.full()), Qobj(phi_minus.full()), Qobj(psi_plus.full()), Qobj(psi_minus.full())"
   ]
  },
  {
   "cell_type": "markdown",
   "metadata": {},
   "source": [
    "Projectors\n",
    "\\begin{align*}\n",
    "       &P_1=\\ket{\\Phi_+}\\bra{\\Phi_+}\\otimes \\mathbb{I}_2;~\n",
    "       P_2=\\ket{\\Phi_-}\\bra{\\Phi_-}\\otimes \\mathbb{I}_2\\\\\n",
    "       &P_3=\\ket{\\Psi_+}\\bra{\\Psi_+}\\otimes \\mathbb{I}_2;~\n",
    "       P_4=\\ket{\\Psi_-}\\bra{\\Psi_-}\\otimes \\mathbb{I}_2\n",
    "   \\end{align*}"
   ]
  },
  {
   "cell_type": "code",
   "execution_count": 66,
   "metadata": {},
   "outputs": [],
   "source": [
    "I2 = qeye(2)\n",
    "P1,P2, P3, P4 = tensor(phi_plus*phi_plus.dag(), I2), tensor(phi_minus*phi_minus.dag(), I2), tensor(psi_plus*psi_plus.dag(), I2), tensor(psi_minus*psi_minus.dag(), I2)\n",
    "P1, P2, P3, P4 = Qobj(P1.full()), Qobj(P2.full()), Qobj(P3.full()), Qobj(P4.full())\n",
    "projectors = [P1, P2, P3, P4]\n"
   ]
  },
  {
   "cell_type": "code",
   "execution_count": 8,
   "metadata": {},
   "outputs": [
    {
     "data": {
      "text/latex": [
       "Quantum object: dims=[[8], [8]], shape=(8, 8), type='oper', dtype=Dense, isherm=True$$\\left(\\begin{array}{cc}0.500 & 0 & 0 & 0 & 0 & 0 & 0.500 & 0\\\\0 & 0.500 & 0 & 0 & 0 & 0 & 0 & 0.500\\\\0 & 0 & 0 & 0 & 0 & 0 & 0 & 0\\\\0 & 0 & 0 & 0 & 0 & 0 & 0 & 0\\\\0 & 0 & 0 & 0 & 0 & 0 & 0 & 0\\\\0 & 0 & 0 & 0 & 0 & 0 & 0 & 0\\\\0.500 & 0 & 0 & 0 & 0 & 0 & 0.500 & 0\\\\0 & 0.500 & 0 & 0 & 0 & 0 & 0 & 0.500\\end{array}\\right)$$"
      ],
      "text/plain": [
       "Quantum object: dims=[[8], [8]], shape=(8, 8), type='oper', dtype=Dense, isherm=True\n",
       "Qobj data =\n",
       "[[0.5 0.  0.  0.  0.  0.  0.5 0. ]\n",
       " [0.  0.5 0.  0.  0.  0.  0.  0.5]\n",
       " [0.  0.  0.  0.  0.  0.  0.  0. ]\n",
       " [0.  0.  0.  0.  0.  0.  0.  0. ]\n",
       " [0.  0.  0.  0.  0.  0.  0.  0. ]\n",
       " [0.  0.  0.  0.  0.  0.  0.  0. ]\n",
       " [0.5 0.  0.  0.  0.  0.  0.5 0. ]\n",
       " [0.  0.5 0.  0.  0.  0.  0.  0.5]]"
      ]
     },
     "execution_count": 8,
     "metadata": {},
     "output_type": "execute_result"
    }
   ],
   "source": [
    "projectors[0]"
   ]
  },
  {
   "cell_type": "markdown",
   "metadata": {},
   "source": [
    "# Measurements"
   ]
  },
  {
   "cell_type": "code",
   "execution_count": 9,
   "metadata": {},
   "outputs": [
    {
     "data": {
      "text/plain": [
       "[0.2777777777777779,\n",
       " 0.2777777777777779,\n",
       " 0.11111111111111116,\n",
       " 0.3333333333333335]"
      ]
     },
     "execution_count": 9,
     "metadata": {},
     "output_type": "execute_result"
    }
   ],
   "source": [
    "collapsed_state, probabilities = qutip.measurement.measurement_statistics_povm(rho, projectors)\n",
    "probabilities"
   ]
  },
  {
   "cell_type": "code",
   "execution_count": 10,
   "metadata": {},
   "outputs": [
    {
     "data": {
      "text/latex": [
       "Quantum object: dims=[[8], [8]], shape=(8, 8), type='oper', dtype=Dense, isherm=True$$\\left(\\begin{array}{cc}0.069 & 0.028 & 0 & 0 & 0 & 0 & 0.069 & 0.028\\\\0.028 & 0.069 & 0 & 0 & 0 & 0 & 0.028 & 0.069\\\\0 & 0 & 0 & 0 & 0 & 0 & 0 & 0\\\\0 & 0 & 0 & 0 & 0 & 0 & 0 & 0\\\\0 & 0 & 0 & 0 & 0 & 0 & 0 & 0\\\\0 & 0 & 0 & 0 & 0 & 0 & 0 & 0\\\\0.069 & 0.028 & 0 & 0 & 0 & 0 & 0.069 & 0.028\\\\0.028 & 0.069 & 0 & 0 & 0 & 0 & 0.028 & 0.069\\end{array}\\right)$$"
      ],
      "text/plain": [
       "Quantum object: dims=[[8], [8]], shape=(8, 8), type='oper', dtype=Dense, isherm=True\n",
       "Qobj data =\n",
       "[[0.06944444 0.02777778 0.         0.         0.         0.\n",
       "  0.06944444 0.02777778]\n",
       " [0.02777778 0.06944444 0.         0.         0.         0.\n",
       "  0.02777778 0.06944444]\n",
       " [0.         0.         0.         0.         0.         0.\n",
       "  0.         0.        ]\n",
       " [0.         0.         0.         0.         0.         0.\n",
       "  0.         0.        ]\n",
       " [0.         0.         0.         0.         0.         0.\n",
       "  0.         0.        ]\n",
       " [0.         0.         0.         0.         0.         0.\n",
       "  0.         0.        ]\n",
       " [0.06944444 0.02777778 0.         0.         0.         0.\n",
       "  0.06944444 0.02777778]\n",
       " [0.02777778 0.06944444 0.         0.         0.         0.\n",
       "  0.02777778 0.06944444]]"
      ]
     },
     "execution_count": 10,
     "metadata": {},
     "output_type": "execute_result"
    }
   ],
   "source": [
    "P1*rho*P1"
   ]
  },
  {
   "cell_type": "markdown",
   "metadata": {},
   "source": [
    "Average state after measurement is given by $\\tilde \\rho = \\sum_i P_i \\rho P_i$"
   ]
  },
  {
   "cell_type": "code",
   "execution_count": 37,
   "metadata": {},
   "outputs": [
    {
     "data": {
      "text/latex": [
       "Quantum object: dims=[[8], [8]], shape=(8, 8), type='oper', dtype=Dense, isherm=True$$\\left(\\begin{array}{cc}0.139 & 0.056 & 0 & 0 & 0 & 0 & 0 & 0\\\\0.056 & 0.139 & 0 & 0 & 0 & 0 & 0 & 0\\\\0 & 0 & 0.111 & 0.056 & 0 & -0.056 & 0 & 0\\\\0 & 0 & 0.056 & 0.111 & -0.056 & -0.111 & 0 & 0\\\\0 & 0 & 0 & -0.056 & 0.111 & 0.056 & 0 & 0\\\\0 & 0 & -0.056 & -0.111 & 0.056 & 0.111 & 0 & 0\\\\0 & 0 & 0 & 0 & 0 & 0 & 0.139 & 0.056\\\\0 & 0 & 0 & 0 & 0 & 0 & 0.056 & 0.139\\end{array}\\right)$$"
      ],
      "text/plain": [
       "Quantum object: dims=[[8], [8]], shape=(8, 8), type='oper', dtype=Dense, isherm=True\n",
       "Qobj data =\n",
       "[[ 0.13888889  0.05555556  0.          0.          0.          0.\n",
       "   0.          0.        ]\n",
       " [ 0.05555556  0.13888889  0.          0.          0.          0.\n",
       "   0.          0.        ]\n",
       " [ 0.          0.          0.11111111  0.05555556  0.         -0.05555556\n",
       "   0.          0.        ]\n",
       " [ 0.          0.          0.05555556  0.11111111 -0.05555556 -0.11111111\n",
       "   0.          0.        ]\n",
       " [ 0.          0.          0.         -0.05555556  0.11111111  0.05555556\n",
       "   0.          0.        ]\n",
       " [ 0.          0.         -0.05555556 -0.11111111  0.05555556  0.11111111\n",
       "   0.          0.        ]\n",
       " [ 0.          0.          0.          0.          0.          0.\n",
       "   0.13888889  0.05555556]\n",
       " [ 0.          0.          0.          0.          0.          0.\n",
       "   0.05555556  0.13888889]]"
      ]
     },
     "execution_count": 37,
     "metadata": {},
     "output_type": "execute_result"
    }
   ],
   "source": [
    "rho_avg = P1*rho*P1 + P2*rho*P2 + P3*rho*P3 + P4*rho*P4\n",
    "rho_avg"
   ]
  },
  {
   "cell_type": "code",
   "execution_count": 36,
   "metadata": {},
   "outputs": [
    {
     "data": {
      "text/plain": [
       "1.5000000000000009"
      ]
     },
     "execution_count": 36,
     "metadata": {},
     "output_type": "execute_result"
    }
   ],
   "source": [
    "# energy of averge state\n",
    "E_avg = (rho_avg*H).tr()\n",
    "E_avg.real"
   ]
  },
  {
   "cell_type": "code",
   "execution_count": 64,
   "metadata": {},
   "outputs": [
    {
     "data": {
      "text/plain": [
       "array([[0.70710678+0.j],\n",
       "       [0.        +0.j],\n",
       "       [0.        +0.j],\n",
       "       [0.70710678+0.j]])"
      ]
     },
     "execution_count": 64,
     "metadata": {},
     "output_type": "execute_result"
    }
   ],
   "source": [
    "phi_plus.full()"
   ]
  },
  {
   "cell_type": "code",
   "execution_count": 67,
   "metadata": {},
   "outputs": [
    {
     "data": {
      "text/latex": [
       "Quantum object: dims=[[4], [4]], shape=(4, 4), type='oper', dtype=Dense, isherm=False$$\\left(\\begin{array}{cc}0.707 & 0 & 0 & 0.707\\\\0 & 0 & 0 & 0\\\\0 & 0 & 0 & 0\\\\0 & 0 & 0 & 0\\end{array}\\right)$$"
      ],
      "text/plain": [
       "Quantum object: dims=[[4], [4]], shape=(4, 4), type='oper', dtype=Dense, isherm=False\n",
       "Qobj data =\n",
       "[[0.70710678 0.         0.         0.70710678]\n",
       " [0.         0.         0.         0.        ]\n",
       " [0.         0.         0.         0.        ]\n",
       " [0.         0.         0.         0.        ]]"
      ]
     },
     "execution_count": 67,
     "metadata": {},
     "output_type": "execute_result"
    }
   ],
   "source": [
    "basis(4,0)*phi_plus.dag()"
   ]
  },
  {
   "cell_type": "code",
   "execution_count": 77,
   "metadata": {},
   "outputs": [
    {
     "data": {
      "text/latex": [
       "Quantum object: dims=[[8], [8]], shape=(8, 8), type='oper', dtype=Dense, isherm=False$$\\left(\\begin{array}{cc}0.707 & 0 & 0 & 0 & 0 & 0 & 0.707 & 0\\\\0 & 0.707 & 0 & 0 & 0 & 0 & 0 & 0.707\\\\0.707 & 0 & 0 & 0 & 0 & 0 & -0.707 & 0\\\\0 & 0.707 & 0 & 0 & 0 & 0 & 0 & -0.707\\\\0 & 0 & 0.707 & 0 & 0.707 & 0 & 0 & 0\\\\0 & 0 & 0 & 0.707 & 0 & 0.707 & 0 & 0\\\\0 & 0 & 0.707 & 0 & -0.707 & 0 & 0 & 0\\\\0 & 0 & 0 & 0.707 & 0 & -0.707 & 0 & 0\\end{array}\\right)$$"
      ],
      "text/plain": [
       "Quantum object: dims=[[8], [8]], shape=(8, 8), type='oper', dtype=Dense, isherm=False\n",
       "Qobj data =\n",
       "[[ 0.70710678  0.          0.          0.          0.          0.\n",
       "   0.70710678  0.        ]\n",
       " [ 0.          0.70710678  0.          0.          0.          0.\n",
       "   0.          0.70710678]\n",
       " [ 0.70710678  0.          0.          0.          0.          0.\n",
       "  -0.70710678 -0.        ]\n",
       " [ 0.          0.70710678  0.          0.          0.          0.\n",
       "  -0.         -0.70710678]\n",
       " [ 0.          0.          0.70710678  0.          0.70710678  0.\n",
       "   0.          0.        ]\n",
       " [ 0.          0.          0.          0.70710678  0.          0.70710678\n",
       "   0.          0.        ]\n",
       " [ 0.          0.          0.70710678  0.         -0.70710678 -0.\n",
       "   0.          0.        ]\n",
       " [ 0.          0.          0.          0.70710678 -0.         -0.70710678\n",
       "   0.          0.        ]]"
      ]
     },
     "execution_count": 77,
     "metadata": {},
     "output_type": "execute_result"
    }
   ],
   "source": [
    "# the d=4 basis states are given by basis(4, i) for i = 0,1,2,3\n",
    "U_basis_change = basis(4,0)*phi_plus.dag() + basis(4,1)*phi_minus.dag() + basis(4,2)*psi_plus.dag() + basis(4,3)*psi_minus.dag()\n",
    "U_basis_change = Qobj((tensor(U_basis_change, I2)).full())\n",
    "U_basis_change"
   ]
  },
  {
   "cell_type": "code",
   "execution_count": 80,
   "metadata": {},
   "outputs": [],
   "source": [
    "# write down everything in the new basis\n",
    "rho_prime = U_basis_change*rho*U_basis_change.dag()\n",
    "H_prime = U_basis_change*H*U_basis_change.dag()\n",
    "\n",
    "\n",
    "P1_prime = U_basis_change*P1*U_basis_change.dag()\n",
    "P2_prime = U_basis_change*P2*U_basis_change.dag()\n",
    "P3_prime = U_basis_change*P3*U_basis_change.dag()\n",
    "P4_prime = U_basis_change*P4*U_basis_change.dag()\n",
    "\n",
    "projectors_prime = [P1_prime, P2_prime, P3_prime, P4_prime]\n",
    "\n",
    "collapsed_state_prime, probabilities_prime = qutip.measurement.measurement_statistics_povm(rho_prime, projectors_prime)\n",
    "# print(probabilities_prime)\n",
    "\n",
    "rho_avg_prime = P1_prime*rho_prime*P1_prime + P2_prime*rho_prime*P2_prime + P3_prime*rho_prime*P3_prime + P4_prime*rho_prime*P4_prime\n"
   ]
  },
  {
   "cell_type": "code",
   "execution_count": 85,
   "metadata": {},
   "outputs": [
    {
     "data": {
      "text/latex": [
       "Quantum object: dims=[[8], [8]], shape=(8, 8), type='oper', dtype=Dense, isherm=True$$\\left(\\begin{array}{cc}0.139 & 0.056 & -9.494\\times10^{ -18 } & -3.798\\times10^{ -18 } & 0 & 0 & 0 & 0\\\\0.056 & 0.139 & -3.798\\times10^{ -18 } & -9.494\\times10^{ -18 } & 0 & 0 & 0 & 0\\\\-9.494\\times10^{ -18 } & -3.798\\times10^{ -18 } & 0.139 & 0.056 & 0 & 0 & 0 & 0\\\\-3.798\\times10^{ -18 } & -9.494\\times10^{ -18 } & 0.056 & 0.139 & 0 & 0 & 0 & 0\\\\0 & 0 & 0 & 0 & 0.111 & 6.660\\times10^{ -18 } & -7.595\\times10^{ -18 } & -3.613\\times10^{ -18 }\\\\0 & 0 & 0 & 0 & 8.531\\times10^{ -18 } & 1.295\\times10^{ -33 } & -3.613\\times10^{ -18 } & -7.226\\times10^{ -18 }\\\\0 & 0 & 0 & 0 & -7.595\\times10^{ -18 } & -3.982\\times10^{ -18 } & 0.111 & 0.111\\\\0 & 0 & 0 & 0 & -3.982\\times10^{ -18 } & -7.965\\times10^{ -18 } & 0.111 & 0.222\\end{array}\\right)$$"
      ],
      "text/plain": [
       "Quantum object: dims=[[8], [8]], shape=(8, 8), type='oper', dtype=Dense, isherm=True\n",
       "Qobj data =\n",
       "[[ 1.38888889e-01  5.55555556e-02 -9.49417869e-18 -3.79767148e-18\n",
       "   0.00000000e+00  0.00000000e+00  0.00000000e+00  0.00000000e+00]\n",
       " [ 5.55555556e-02  1.38888889e-01 -3.79767148e-18 -9.49417869e-18\n",
       "   0.00000000e+00  0.00000000e+00  0.00000000e+00  0.00000000e+00]\n",
       " [-9.49417869e-18 -3.79767148e-18  1.38888889e-01  5.55555556e-02\n",
       "   0.00000000e+00  0.00000000e+00  0.00000000e+00  0.00000000e+00]\n",
       " [-3.79767148e-18 -9.49417869e-18  5.55555556e-02  1.38888889e-01\n",
       "   0.00000000e+00  0.00000000e+00  0.00000000e+00  0.00000000e+00]\n",
       " [ 0.00000000e+00  0.00000000e+00  0.00000000e+00  0.00000000e+00\n",
       "   1.11111111e-01  6.65997741e-18 -7.59534295e-18 -3.61307550e-18]\n",
       " [ 0.00000000e+00  0.00000000e+00  0.00000000e+00  0.00000000e+00\n",
       "   8.53070850e-18  1.29533915e-33 -3.61307550e-18 -7.22615101e-18]\n",
       " [ 0.00000000e+00  0.00000000e+00  0.00000000e+00  0.00000000e+00\n",
       "  -7.59534295e-18 -3.98226745e-18  1.11111111e-01  1.11111111e-01]\n",
       " [ 0.00000000e+00  0.00000000e+00  0.00000000e+00  0.00000000e+00\n",
       "  -3.98226745e-18 -7.96453490e-18  1.11111111e-01  2.22222222e-01]]"
      ]
     },
     "execution_count": 85,
     "metadata": {},
     "output_type": "execute_result"
    }
   ],
   "source": [
    "rho_avg_prime"
   ]
  },
  {
   "cell_type": "code",
   "execution_count": 89,
   "metadata": {},
   "outputs": [
    {
     "data": {
      "text/plain": [
       "(array([-7.28709859e-17,  4.24406679e-02,  8.33333333e-02,  8.33333333e-02,\n",
       "         1.11111111e-01,  1.94444444e-01,  1.94444444e-01,  2.90892665e-01]),\n",
       " array([Quantum object: dims=[[8], [1]], shape=(8, 1), type='ket', dtype=Dense\n",
       "        Qobj data =\n",
       "        [[ 0.00000000e+00]\n",
       "         [ 0.00000000e+00]\n",
       "         [ 0.00000000e+00]\n",
       "         [ 0.00000000e+00]\n",
       "         [ 0.00000000e+00]\n",
       "         [-1.00000000e+00]\n",
       "         [ 3.33066907e-16]\n",
       "         [ 0.00000000e+00]]                                                   ,\n",
       "        Quantum object: dims=[[8], [1]], shape=(8, 1), type='ket', dtype=Dense\n",
       "        Qobj data =\n",
       "        [[ 0.00000000e+00]\n",
       "         [ 0.00000000e+00]\n",
       "         [ 0.00000000e+00]\n",
       "         [ 0.00000000e+00]\n",
       "         [ 0.00000000e+00]\n",
       "         [-3.33066907e-16]\n",
       "         [-8.50650808e-01]\n",
       "         [ 5.25731112e-01]]                                                   ,\n",
       "        Quantum object: dims=[[8], [1]], shape=(8, 1), type='ket', dtype=Dense\n",
       "        Qobj data =\n",
       "        [[ 7.07106781e-01]\n",
       "         [-7.07106781e-01]\n",
       "         [ 1.20841166e-16]\n",
       "         [ 4.83364666e-17]\n",
       "         [ 0.00000000e+00]\n",
       "         [ 0.00000000e+00]\n",
       "         [ 0.00000000e+00]\n",
       "         [ 0.00000000e+00]]                                                   ,\n",
       "        Quantum object: dims=[[8], [1]], shape=(8, 1), type='ket', dtype=Dense\n",
       "        Qobj data =\n",
       "        [[ 0.00000000e+00]\n",
       "         [-7.25046999e-17]\n",
       "         [-7.07106781e-01]\n",
       "         [ 7.07106781e-01]\n",
       "         [ 0.00000000e+00]\n",
       "         [ 0.00000000e+00]\n",
       "         [ 0.00000000e+00]\n",
       "         [ 0.00000000e+00]]                                                   ,\n",
       "        Quantum object: dims=[[8], [1]], shape=(8, 1), type='ket', dtype=Dense\n",
       "        Qobj data =\n",
       "        [[0.]\n",
       "         [0.]\n",
       "         [0.]\n",
       "         [0.]\n",
       "         [1.]\n",
       "         [0.]\n",
       "         [0.]\n",
       "         [0.]]                                                                ,\n",
       "        Quantum object: dims=[[8], [1]], shape=(8, 1), type='ket', dtype=Dense\n",
       "        Qobj data =\n",
       "        [[ 0.00000000e+00]\n",
       "         [-1.69177633e-16]\n",
       "         [-7.07106781e-01]\n",
       "         [-7.07106781e-01]\n",
       "         [ 0.00000000e+00]\n",
       "         [ 0.00000000e+00]\n",
       "         [ 0.00000000e+00]\n",
       "         [ 0.00000000e+00]]                                                   ,\n",
       "        Quantum object: dims=[[8], [1]], shape=(8, 1), type='ket', dtype=Dense\n",
       "        Qobj data =\n",
       "        [[ 7.07106781e-01]\n",
       "         [ 7.07106781e-01]\n",
       "         [-1.20841166e-16]\n",
       "         [-4.83364666e-17]\n",
       "         [ 0.00000000e+00]\n",
       "         [ 0.00000000e+00]\n",
       "         [ 0.00000000e+00]\n",
       "         [ 0.00000000e+00]]                                                   ,\n",
       "        Quantum object: dims=[[8], [1]], shape=(8, 1), type='ket', dtype=Dense\n",
       "        Qobj data =\n",
       "        [[0.00000000e+00]\n",
       "         [0.00000000e+00]\n",
       "         [0.00000000e+00]\n",
       "         [0.00000000e+00]\n",
       "         [0.00000000e+00]\n",
       "         [2.22044605e-16]\n",
       "         [5.25731112e-01]\n",
       "         [8.50650808e-01]]                                                    ],\n",
       "       dtype=object))"
      ]
     },
     "execution_count": 89,
     "metadata": {},
     "output_type": "execute_result"
    }
   ],
   "source": [
    "# eigenvalues of the average state\n",
    "rho_avg_prime.eigenstates()"
   ]
  },
  {
   "cell_type": "markdown",
   "metadata": {},
   "source": [
    "Haar Average state: $\\tilde \\rho = \\sum_i p_i P_1/V_1$,\n",
    "\n",
    "where $p_1 = Tr[P_1\\rho]$"
   ]
  },
  {
   "cell_type": "code",
   "execution_count": 91,
   "metadata": {},
   "outputs": [
    {
     "data": {
      "text/latex": [
       "Quantum object: dims=[[8], [8]], shape=(8, 8), type='oper', dtype=Dense, isherm=True$$\\left(\\begin{array}{cc}0.139 & 0 & -9.494\\times10^{ -18 } & 0 & 0 & 0 & 0 & 0\\\\0 & 0.139 & 0 & -9.494\\times10^{ -18 } & 0 & 0 & 0 & 0\\\\-9.494\\times10^{ -18 } & 0 & 0.139 & 0 & 0 & 0 & 0 & 0\\\\0 & -9.494\\times10^{ -18 } & 0 & 0.139 & 0 & 0 & 0 & 0\\\\0 & 0 & 0 & 0 & 0.056 & 0 & -7.411\\times10^{ -18 } & 0\\\\0 & 0 & 0 & 0 & 0 & 0.056 & 0 & -7.411\\times10^{ -18 }\\\\0 & 0 & 0 & 0 & -7.780\\times10^{ -18 } & 0 & 0.167 & 0\\\\0 & 0 & 0 & 0 & 0 & -7.780\\times10^{ -18 } & 0 & 0.167\\end{array}\\right)$$"
      ],
      "text/plain": [
       "Quantum object: dims=[[8], [8]], shape=(8, 8), type='oper', dtype=Dense, isherm=True\n",
       "Qobj data =\n",
       "[[ 1.38888889e-01  0.00000000e+00 -9.49417869e-18  0.00000000e+00\n",
       "   0.00000000e+00  0.00000000e+00  0.00000000e+00  0.00000000e+00]\n",
       " [ 0.00000000e+00  1.38888889e-01  0.00000000e+00 -9.49417869e-18\n",
       "   0.00000000e+00  0.00000000e+00  0.00000000e+00  0.00000000e+00]\n",
       " [-9.49417869e-18  0.00000000e+00  1.38888889e-01  0.00000000e+00\n",
       "   0.00000000e+00  0.00000000e+00  0.00000000e+00  0.00000000e+00]\n",
       " [ 0.00000000e+00 -9.49417869e-18  0.00000000e+00  1.38888889e-01\n",
       "   0.00000000e+00  0.00000000e+00  0.00000000e+00  0.00000000e+00]\n",
       " [ 0.00000000e+00  0.00000000e+00  0.00000000e+00  0.00000000e+00\n",
       "   5.55555556e-02  0.00000000e+00 -7.41074698e-18  0.00000000e+00]\n",
       " [ 0.00000000e+00  0.00000000e+00  0.00000000e+00  0.00000000e+00\n",
       "   0.00000000e+00  5.55555556e-02  0.00000000e+00 -7.41074698e-18]\n",
       " [ 0.00000000e+00  0.00000000e+00  0.00000000e+00  0.00000000e+00\n",
       "  -7.77993893e-18  0.00000000e+00  1.66666667e-01  0.00000000e+00]\n",
       " [ 0.00000000e+00  0.00000000e+00  0.00000000e+00  0.00000000e+00\n",
       "   0.00000000e+00 -7.77993893e-18  0.00000000e+00  1.66666667e-01]]"
      ]
     },
     "execution_count": 91,
     "metadata": {},
     "output_type": "execute_result"
    }
   ],
   "source": [
    "rho_haar_avg = (1/2)*(((P1_prime*rho_prime).tr()*P1_prime) + ((P2_prime*rho_prime).tr()*P2_prime) + ((P3_prime*rho_prime).tr()*P3_prime) + ((P4_prime*rho_prime).tr()*P4_prime))\n",
    "rho_haar_avg"
   ]
  },
  {
   "cell_type": "code",
   "execution_count": 96,
   "metadata": {},
   "outputs": [
    {
     "data": {
      "text/plain": [
       "array([Quantum object: dims=[[8], [1]], shape=(8, 1), type='ket', dtype=Dense\n",
       "       Qobj data =\n",
       "       [[0.]\n",
       "        [0.]\n",
       "        [0.]\n",
       "        [0.]\n",
       "        [1.]\n",
       "        [0.]\n",
       "        [0.]\n",
       "        [0.]]                                                                ,\n",
       "       Quantum object: dims=[[8], [1]], shape=(8, 1), type='ket', dtype=Dense\n",
       "       Qobj data =\n",
       "       [[0.]\n",
       "        [0.]\n",
       "        [0.]\n",
       "        [0.]\n",
       "        [0.]\n",
       "        [1.]\n",
       "        [0.]\n",
       "        [0.]]                                                                ,\n",
       "       Quantum object: dims=[[8], [1]], shape=(8, 1), type='ket', dtype=Dense\n",
       "       Qobj data =\n",
       "       [[0.]\n",
       "        [1.]\n",
       "        [0.]\n",
       "        [0.]\n",
       "        [0.]\n",
       "        [0.]\n",
       "        [0.]\n",
       "        [0.]]                                                                ,\n",
       "       Quantum object: dims=[[8], [1]], shape=(8, 1), type='ket', dtype=Dense\n",
       "       Qobj data =\n",
       "       [[0.]\n",
       "        [0.]\n",
       "        [0.]\n",
       "        [1.]\n",
       "        [0.]\n",
       "        [0.]\n",
       "        [0.]\n",
       "        [0.]]                                                                ,\n",
       "       Quantum object: dims=[[8], [1]], shape=(8, 1), type='ket', dtype=Dense\n",
       "       Qobj data =\n",
       "       [[1.]\n",
       "        [0.]\n",
       "        [0.]\n",
       "        [0.]\n",
       "        [0.]\n",
       "        [0.]\n",
       "        [0.]\n",
       "        [0.]]                                                                ,\n",
       "       Quantum object: dims=[[8], [1]], shape=(8, 1), type='ket', dtype=Dense\n",
       "       Qobj data =\n",
       "       [[0.]\n",
       "        [0.]\n",
       "        [1.]\n",
       "        [0.]\n",
       "        [0.]\n",
       "        [0.]\n",
       "        [0.]\n",
       "        [0.]]                                                                ,\n",
       "       Quantum object: dims=[[8], [1]], shape=(8, 1), type='ket', dtype=Dense\n",
       "       Qobj data =\n",
       "       [[0.]\n",
       "        [0.]\n",
       "        [0.]\n",
       "        [0.]\n",
       "        [0.]\n",
       "        [0.]\n",
       "        [1.]\n",
       "        [0.]]                                                                ,\n",
       "       Quantum object: dims=[[8], [1]], shape=(8, 1), type='ket', dtype=Dense\n",
       "       Qobj data =\n",
       "       [[0.]\n",
       "        [0.]\n",
       "        [0.]\n",
       "        [0.]\n",
       "        [0.]\n",
       "        [0.]\n",
       "        [0.]\n",
       "        [1.]]                                                                ],\n",
       "      dtype=object)"
      ]
     },
     "execution_count": 96,
     "metadata": {},
     "output_type": "execute_result"
    }
   ],
   "source": [
    "# eigenvalues of rho_haar_avg state\n",
    "eig_values, eig_states = rho_haar_avg.eigenstates()\n",
    "eig_states"
   ]
  },
  {
   "cell_type": "code",
   "execution_count": 93,
   "metadata": {},
   "outputs": [
    {
     "data": {
      "text/plain": [
       "0.1388888888888889"
      ]
     },
     "execution_count": 93,
     "metadata": {},
     "output_type": "execute_result"
    }
   ],
   "source": []
  },
  {
   "cell_type": "markdown",
   "metadata": {},
   "source": [
    "Pauli Group"
   ]
  },
  {
   "cell_type": "code",
   "execution_count": 79,
   "metadata": {},
   "outputs": [],
   "source": [
    "# Pauli matrices\n",
    "I, X, Y, Z = qeye(2), sigmax(), sigmay(), sigmaz()\n",
    "\n",
    "# Pauli group\n",
    "pauli_group = []\n",
    "\n",
    "for op in [I, X, Y, Z]:\n",
    "    pauli_group.append(op)\n",
    "    pauli_group.append(-1*op)\n",
    "    pauli_group.append(1j*op)\n",
    "    pauli_group.append(-1j*op)"
   ]
  }
 ],
 "metadata": {
  "kernelspec": {
   "display_name": "qiskit",
   "language": "python",
   "name": "python3"
  },
  "language_info": {
   "codemirror_mode": {
    "name": "ipython",
    "version": 3
   },
   "file_extension": ".py",
   "mimetype": "text/x-python",
   "name": "python",
   "nbconvert_exporter": "python",
   "pygments_lexer": "ipython3",
   "version": "3.12.5"
  }
 },
 "nbformat": 4,
 "nbformat_minor": 2
}
