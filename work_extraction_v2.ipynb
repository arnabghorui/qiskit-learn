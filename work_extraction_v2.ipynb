{
 "cells": [
  {
   "cell_type": "code",
   "execution_count": 1,
   "metadata": {},
   "outputs": [],
   "source": [
    "import numpy as np\n",
    "import matplotlib.pyplot as plt\n",
    "from qutip import *"
   ]
  },
  {
   "cell_type": "markdown",
   "metadata": {},
   "source": [
    "$\\rho$\n",
    "\n",
    "TODO: add matrix elements"
   ]
  },
  {
   "cell_type": "code",
   "execution_count": 2,
   "metadata": {},
   "outputs": [
    {
     "data": {
      "text/latex": [
       "Quantum object: dims=[[8], [8]], shape=(8, 8), type='oper', dtype=Dense, isherm=True$$\\left(\\begin{array}{cc}0.111 & 0.111 & 0.111 & 0 & 0 & 0 & 0 & 0\\\\0.111 & 0.111 & 0.111 & 0 & 0 & 0 & 0 & 0\\\\0.111 & 0.111 & 0.111 & 0 & 0 & 0 & 0 & 0\\\\0 & 0 & 0 & 0.111 & -0.111 & -0.111 & 0 & 0\\\\0 & 0 & 0 & -0.111 & 0.111 & 0.111 & 0 & 0\\\\0 & 0 & 0 & -0.111 & 0.111 & 0.111 & 0 & 0\\\\0 & 0 & 0 & 0 & 0 & 0 & 0.167 & 0\\\\0 & 0 & 0 & 0 & 0 & 0 & 0 & 0.167\\end{array}\\right)$$"
      ],
      "text/plain": [
       "Quantum object: dims=[[8], [8]], shape=(8, 8), type='oper', dtype=Dense, isherm=True\n",
       "Qobj data =\n",
       "[[ 0.11111111  0.11111111  0.11111111  0.          0.          0.\n",
       "   0.          0.        ]\n",
       " [ 0.11111111  0.11111111  0.11111111  0.          0.          0.\n",
       "   0.          0.        ]\n",
       " [ 0.11111111  0.11111111  0.11111111  0.          0.          0.\n",
       "   0.          0.        ]\n",
       " [ 0.          0.          0.          0.11111111 -0.11111111 -0.11111111\n",
       "   0.          0.        ]\n",
       " [ 0.          0.          0.         -0.11111111  0.11111111  0.11111111\n",
       "   0.          0.        ]\n",
       " [ 0.          0.          0.         -0.11111111  0.11111111  0.11111111\n",
       "   0.          0.        ]\n",
       " [ 0.          0.          0.          0.          0.          0.\n",
       "   0.16666667  0.        ]\n",
       " [ 0.          0.          0.          0.          0.          0.\n",
       "   0.          0.16666667]]"
      ]
     },
     "execution_count": 2,
     "metadata": {},
     "output_type": "execute_result"
    }
   ],
   "source": [
    "rho1 = (1/3)*np.array([[1, 1, 1, 0, 0, 0, 0, 0],\n",
    "                  [1, 1, 1, 0, 0, 0, 0, 0],\n",
    "                  [1, 1, 1, 0, 0, 0, 0, 0],\n",
    "                  [0, 0, 0, 0, 0, 0, 0, 0],\n",
    "                  [0, 0, 0, 0, 0, 0, 0, 0],\n",
    "                  [0, 0, 0, 0, 0, 0, 0, 0],\n",
    "                  [0, 0, 0, 0, 0, 0, 0, 0],\n",
    "                  [0, 0, 0, 0, 0, 0, 0, 0]])\n",
    "\n",
    "rho2 = (1/3)*np.array([[0, 0, 0, 0, 0, 0, 0, 0],\n",
    "                  [0, 0, 0, 0, 0, 0, 0, 0],\n",
    "                  [0, 0, 0, 0, 0, 0, 0, 0],\n",
    "                  [0, 0, 0, 1, -1, -1, 0, 0],\n",
    "                  [0, 0, 0, -1, 1, 1, 0, 0],\n",
    "                  [0, 0, 0, -1, 1, 1, 0, 0],\n",
    "                  [0, 0, 0, 0, 0, 0, 0, 0],\n",
    "                  [0, 0, 0, 0, 0, 0, 0, 0]]) \n",
    "\n",
    "rho3 = (1/2)*np.array([[0, 0, 0, 0, 0, 0, 0, 0],\n",
    "                  [0, 0, 0, 0, 0, 0, 0, 0],\n",
    "                  [0, 0, 0, 0, 0, 0, 0, 0],\n",
    "                  [0, 0, 0, 0, 0, 0, 0, 0],\n",
    "                  [0, 0, 0, 0, 0, 0, 0, 0],\n",
    "                  [0, 0, 0, 0, 0, 0, 0, 0],\n",
    "                  [0, 0, 0, 0, 0, 0, 1, 0],\n",
    "                  [0, 0, 0, 0, 0, 0, 0, 1]]) \n",
    "\n",
    "rho = Qobj((1/3)*(rho1 + rho2 + rho3))\n",
    "\n",
    "rho\n",
    "\n"
   ]
  },
  {
   "cell_type": "markdown",
   "metadata": {},
   "source": [
    "# Hamiltonian\n",
    "\n",
    "$H^{(8)}=H \\otimes \\mathbb I \\otimes \\mathbb I  + \\mathbb I \\otimes H \\otimes \\mathbb I + \\mathbb I \\otimes\\mathbb I \\otimes H$, where $H = \\frac{1}{2} (\\mathbb I - Z)$"
   ]
  },
  {
   "cell_type": "code",
   "execution_count": 3,
   "metadata": {},
   "outputs": [
    {
     "data": {
      "text/latex": [
       "Quantum object: dims=[[8], [8]], shape=(8, 8), type='oper', dtype=Dense, isherm=True$$\\left(\\begin{array}{cc}0 & 0 & 0 & 0 & 0 & 0 & 0 & 0\\\\0 & 1 & 0 & 0 & 0 & 0 & 0 & 0\\\\0 & 0 & 1 & 0 & 0 & 0 & 0 & 0\\\\0 & 0 & 0 & 2 & 0 & 0 & 0 & 0\\\\0 & 0 & 0 & 0 & 1 & 0 & 0 & 0\\\\0 & 0 & 0 & 0 & 0 & 2 & 0 & 0\\\\0 & 0 & 0 & 0 & 0 & 0 & 2 & 0\\\\0 & 0 & 0 & 0 & 0 & 0 & 0 & 3\\end{array}\\right)$$"
      ],
      "text/plain": [
       "Quantum object: dims=[[8], [8]], shape=(8, 8), type='oper', dtype=Dense, isherm=True\n",
       "Qobj data =\n",
       "[[0. 0. 0. 0. 0. 0. 0. 0.]\n",
       " [0. 1. 0. 0. 0. 0. 0. 0.]\n",
       " [0. 0. 1. 0. 0. 0. 0. 0.]\n",
       " [0. 0. 0. 2. 0. 0. 0. 0.]\n",
       " [0. 0. 0. 0. 1. 0. 0. 0.]\n",
       " [0. 0. 0. 0. 0. 2. 0. 0.]\n",
       " [0. 0. 0. 0. 0. 0. 2. 0.]\n",
       " [0. 0. 0. 0. 0. 0. 0. 3.]]"
      ]
     },
     "execution_count": 3,
     "metadata": {},
     "output_type": "execute_result"
    }
   ],
   "source": [
    "I = np.eye(2)\n",
    "Z = np.array([[1, 0], [0, -1]])\n",
    "h = (1/2)*(I-Z)\n",
    "\n",
    "H = np.kron(h, np.kron(I,I)) + np.kron(I, np.kron(h,I)) + np.kron(I, np.kron(I,h))\n",
    "H = Qobj(H)\n",
    "H"
   ]
  },
  {
   "cell_type": "markdown",
   "metadata": {},
   "source": [
    "Initial energy of the state = $\\frac{29}{18} = 1.611111..$"
   ]
  },
  {
   "cell_type": "code",
   "execution_count": 4,
   "metadata": {},
   "outputs": [
    {
     "data": {
      "text/plain": [
       "1.6111111111111112"
      ]
     },
     "execution_count": 4,
     "metadata": {},
     "output_type": "execute_result"
    }
   ],
   "source": [
    "# Initial Energy of the state\n",
    "E_i = (rho*H).tr()\n",
    "E_i.real"
   ]
  },
  {
   "cell_type": "markdown",
   "metadata": {},
   "source": [
    "# Entangling measurements in computational basis"
   ]
  },
  {
   "cell_type": "markdown",
   "metadata": {},
   "source": [
    "Bell states\n",
    "\\begin{align*}\n",
    "       &\\ket{\\Phi_+}=\\frac{1}{\\sqrt{2}}\\left(\\ket{00}+\\ket{11}\\right);\n",
    "       \\ket{\\Phi_-}=\\frac{1}{\\sqrt{2}}\\left(\\ket{00}-\\ket{11}\\right);\\\\\n",
    "       &\\ket{\\Psi_+} = \\frac{1}{\\sqrt{2}}\\left(\\ket{01}+\\ket{10}\\right);\n",
    "       \\ket{\\Psi_-} = \\frac{1}{\\sqrt{2}}\\left(\\ket{01}-\\ket{10}\\right).\n",
    "   \\end{align*}"
   ]
  },
  {
   "cell_type": "code",
   "execution_count": 5,
   "metadata": {},
   "outputs": [],
   "source": [
    "phi_plus, phi_minus, psi_plus, psi_minus = bell_state('00'), bell_state('01'), bell_state('10'), bell_state('11')"
   ]
  },
  {
   "cell_type": "markdown",
   "metadata": {},
   "source": [
    "Projectors\n",
    "\\begin{align*}\n",
    "       &P_1=\\ket{\\Phi_+}\\bra{\\Phi_+}\\otimes \\mathbb{I}_2;~\n",
    "       P_2=\\ket{\\Phi_-}\\bra{\\Phi_-}\\otimes \\mathbb{I}_2\\\\\n",
    "       &P_3=\\ket{\\Psi_+}\\bra{\\Psi_+}\\otimes \\mathbb{I}_2;~\n",
    "       P_4=\\ket{\\Psi_-}\\bra{\\Psi_-}\\otimes \\mathbb{I}_2\n",
    "   \\end{align*}"
   ]
  },
  {
   "cell_type": "code",
   "execution_count": 29,
   "metadata": {},
   "outputs": [],
   "source": [
    "I2 = qeye(2)\n",
    "P1,P2, P3, P4 = tensor(phi_plus*phi_plus.dag(), I2), tensor(phi_minus*phi_minus.dag(), I2), tensor(psi_plus*psi_plus.dag(), I2), tensor(psi_minus*psi_minus.dag(), I2)\n",
    "P1, P2, P3, P4 = Qobj(P1.full()), Qobj(P2.full()), Qobj(P3.full()), Qobj(P4.full())\n",
    "projectors = [P1, P2, P3, P4]\n"
   ]
  },
  {
   "cell_type": "code",
   "execution_count": 30,
   "metadata": {},
   "outputs": [
    {
     "data": {
      "text/latex": [
       "Quantum object: dims=[[8], [8]], shape=(8, 8), type='oper', dtype=Dense, isherm=True$$\\left(\\begin{array}{cc}0.500 & 0 & 0 & 0 & 0 & 0 & 0.500 & 0\\\\0 & 0.500 & 0 & 0 & 0 & 0 & 0 & 0.500\\\\0 & 0 & 0 & 0 & 0 & 0 & 0 & 0\\\\0 & 0 & 0 & 0 & 0 & 0 & 0 & 0\\\\0 & 0 & 0 & 0 & 0 & 0 & 0 & 0\\\\0 & 0 & 0 & 0 & 0 & 0 & 0 & 0\\\\0.500 & 0 & 0 & 0 & 0 & 0 & 0.500 & 0\\\\0 & 0.500 & 0 & 0 & 0 & 0 & 0 & 0.500\\end{array}\\right)$$"
      ],
      "text/plain": [
       "Quantum object: dims=[[8], [8]], shape=(8, 8), type='oper', dtype=Dense, isherm=True\n",
       "Qobj data =\n",
       "[[0.5 0.  0.  0.  0.  0.  0.5 0. ]\n",
       " [0.  0.5 0.  0.  0.  0.  0.  0.5]\n",
       " [0.  0.  0.  0.  0.  0.  0.  0. ]\n",
       " [0.  0.  0.  0.  0.  0.  0.  0. ]\n",
       " [0.  0.  0.  0.  0.  0.  0.  0. ]\n",
       " [0.  0.  0.  0.  0.  0.  0.  0. ]\n",
       " [0.5 0.  0.  0.  0.  0.  0.5 0. ]\n",
       " [0.  0.5 0.  0.  0.  0.  0.  0.5]]"
      ]
     },
     "execution_count": 30,
     "metadata": {},
     "output_type": "execute_result"
    }
   ],
   "source": [
    "projectors[0]"
   ]
  },
  {
   "cell_type": "markdown",
   "metadata": {},
   "source": [
    "# Measurements"
   ]
  },
  {
   "cell_type": "code",
   "execution_count": 48,
   "metadata": {},
   "outputs": [
    {
     "data": {
      "text/plain": [
       "[0.2777777777777779,\n",
       " 0.2777777777777779,\n",
       " 0.11111111111111116,\n",
       " 0.3333333333333335]"
      ]
     },
     "execution_count": 48,
     "metadata": {},
     "output_type": "execute_result"
    }
   ],
   "source": [
    "collapsed_state, probabilities = qutip.measurement.measurement_statistics_povm(rho, projectors)\n",
    "probabilities"
   ]
  },
  {
   "cell_type": "code",
   "execution_count": 53,
   "metadata": {},
   "outputs": [
    {
     "data": {
      "text/latex": [
       "Quantum object: dims=[[8], [8]], shape=(8, 8), type='oper', dtype=Dense, isherm=True$$\\left(\\begin{array}{cc}0.139 & 0.056 & 0 & 0 & 0 & 0 & 0 & 0\\\\0.056 & 0.139 & 0 & 0 & 0 & 0 & 0 & 0\\\\0 & 0 & 0.111 & 0.056 & 0 & -0.056 & 0 & 0\\\\0 & 0 & 0.056 & 0.111 & -0.056 & -0.111 & 0 & 0\\\\0 & 0 & 0 & -0.056 & 0.111 & 0.056 & 0 & 0\\\\0 & 0 & -0.056 & -0.111 & 0.056 & 0.111 & 0 & 0\\\\0 & 0 & 0 & 0 & 0 & 0 & 0.139 & 0.056\\\\0 & 0 & 0 & 0 & 0 & 0 & 0.056 & 0.139\\end{array}\\right)$$"
      ],
      "text/plain": [
       "Quantum object: dims=[[8], [8]], shape=(8, 8), type='oper', dtype=Dense, isherm=True\n",
       "Qobj data =\n",
       "[[ 0.13888889  0.05555556  0.          0.          0.          0.\n",
       "   0.          0.        ]\n",
       " [ 0.05555556  0.13888889  0.          0.          0.          0.\n",
       "   0.          0.        ]\n",
       " [ 0.          0.          0.11111111  0.05555556  0.         -0.05555556\n",
       "   0.          0.        ]\n",
       " [ 0.          0.          0.05555556  0.11111111 -0.05555556 -0.11111111\n",
       "   0.          0.        ]\n",
       " [ 0.          0.          0.         -0.05555556  0.11111111  0.05555556\n",
       "   0.          0.        ]\n",
       " [ 0.          0.         -0.05555556 -0.11111111  0.05555556  0.11111111\n",
       "   0.          0.        ]\n",
       " [ 0.          0.          0.          0.          0.          0.\n",
       "   0.13888889  0.05555556]\n",
       " [ 0.          0.          0.          0.          0.          0.\n",
       "   0.05555556  0.13888889]]"
      ]
     },
     "execution_count": 53,
     "metadata": {},
     "output_type": "execute_result"
    }
   ],
   "source": [
    "final_state = P1*rho*P1 + P2*rho*P2 + P3*rho*P3 + P4*rho*P4\n",
    "final_state"
   ]
  }
 ],
 "metadata": {
  "kernelspec": {
   "display_name": "qiskit",
   "language": "python",
   "name": "python3"
  },
  "language_info": {
   "codemirror_mode": {
    "name": "ipython",
    "version": 3
   },
   "file_extension": ".py",
   "mimetype": "text/x-python",
   "name": "python",
   "nbconvert_exporter": "python",
   "pygments_lexer": "ipython3",
   "version": "3.12.5"
  }
 },
 "nbformat": 4,
 "nbformat_minor": 2
}
