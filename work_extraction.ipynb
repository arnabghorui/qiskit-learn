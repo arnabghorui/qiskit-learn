{
 "cells": [
  {
   "cell_type": "code",
   "execution_count": 1,
   "metadata": {},
   "outputs": [],
   "source": [
    "import numpy as np\n",
    "import matplotlib.pyplot as plt\n",
    "from qiskit import *\n",
    "\n",
    "from qiskit_aer import Aer"
   ]
  },
  {
   "cell_type": "markdown",
   "metadata": {},
   "source": [
    "We can simulate without using `qiskit` just by using python packages. There we don't need to worry about the initial state $\\rho$. We assume it is given to us, in classical matrix form. So the expectation values can be calculated just by calculating traces."
   ]
  },
  {
   "cell_type": "markdown",
   "metadata": {},
   "source": [
    "# Notes\n",
    "Let, $\\rho = \\sum_{i=1}^d c_i X_i$\n",
    "\n",
    "It is assumed that $X_i$'s are independent and orthonormal i.e $Tr(X_i^\\dagger X_j) = \\delta_{ij}$.\n",
    "\n",
    "Then, $Tr(\\rho X_i) = c_i$\n",
    "\n",
    "Our initial state is $\\rho = \\rho_1 \\oplus \\rho_2 \\oplus \\rho_3$, where,\n",
    "\n",
    "$$\\rho_1 = \\frac{1}{3}\n",
    "\\begin{bmatrix}\n",
    "    1 & 1 & 1 \\\\\n",
    "    1 & 1 & 1 \\\\\n",
    "    1 & 1 & 1\n",
    "\\end{bmatrix}\n",
    "            \\quad \n",
    "\\rho_2 = \\frac{1}{3}\n",
    "\\begin{bmatrix}\n",
    "    1 & 1 & 1 \\\\\n",
    "    1 & 1 & -1 \\\\\n",
    "    1 & -1 & 1\n",
    "\\end{bmatrix} \\quad\n",
    "\\rho_3 = \\frac{1}{2}\n",
    "\\begin{bmatrix}\n",
    "    1 & 0 \\\\ 0 & 1\n",
    "\\end{bmatrix}$$\n",
    "\n",
    "\n",
    "We want to find `Pauli Decomposition` of $\\rho$ i.e. to find $c_i$'s where $X_i$'s are Pauli matrices/tensor products of Pauli matrices."
   ]
  },
  {
   "cell_type": "markdown",
   "metadata": {},
   "source": [
    "# Reference from [here](https://docs.quantum.ibm.com/build/specify-observables-pauli)"
   ]
  },
  {
   "cell_type": "code",
   "execution_count": 2,
   "metadata": {},
   "outputs": [],
   "source": [
    "#TODO: initialize a mixed state\n",
    "from scipy.linalg import block_diag\n",
    "from qiskit.quantum_info import DensityMatrix\n",
    "\n",
    "\n",
    "# specify the quantum state in an array\n",
    "rho_1 = (1/3)*np.array([[1,1,1],\n",
    "                        [1,1,1],\n",
    "                        [1,1,1]])\n",
    "\n",
    "rho_2 = (1/3)*np.array([[1,1,1],\n",
    "                        [1,1,-1],\n",
    "                        [1,-1,1]])\n",
    "\n",
    "rho_3 = (1/2)*np.array([[1,0],\n",
    "                        [0,1]])\n",
    "\n",
    "# direct sum of rho_1, rho_2, and rho_3\n",
    "\n",
    "rho =  block_diag(rho_1, rho_2, rho_3)\n",
    "# this is our initial mixed state\n",
    "\n",
    "#convert rho into density matrix\n",
    "rho = DensityMatrix(rho)"
   ]
  },
  {
   "cell_type": "code",
   "execution_count": 3,
   "metadata": {},
   "outputs": [
    {
     "data": {
      "text/plain": [
       "False"
      ]
     },
     "execution_count": 3,
     "metadata": {},
     "output_type": "execute_result"
    }
   ],
   "source": [
    "DensityMatrix.is_valid(rho)"
   ]
  },
  {
   "cell_type": "code",
   "execution_count": 4,
   "metadata": {},
   "outputs": [],
   "source": [
    "# Pauli decomposition\n",
    "from qiskit.quantum_info import SparsePauliOp\n",
    "\n",
    "pauli_decomposition = SparsePauliOp.from_operator(rho)"
   ]
  },
  {
   "cell_type": "code",
   "execution_count": 5,
   "metadata": {},
   "outputs": [
    {
     "data": {
      "text/plain": [
       "[('III', (0.375+0j)),\n",
       " ('IXI', (0.08333333333333333+0j)),\n",
       " ('IXX', (0.08333333333333333+0j)),\n",
       " ('IXZ', (0.08333333333333333+0j)),\n",
       " ('IYY', (0.08333333333333333-0j)),\n",
       " ('IZI', (-0.04166666666666666+0j)),\n",
       " ('XXI', (0.08333333333333333+0j)),\n",
       " ('XXX', (0.08333333333333333+0j)),\n",
       " ('XXZ', (-0.08333333333333333+0j)),\n",
       " ('XYY', (-0.08333333333333333+0j)),\n",
       " ('YXY', (0.08333333333333333-0j)),\n",
       " ('YYI', (0.08333333333333333-0j)),\n",
       " ('YYX', (0.08333333333333333-0j)),\n",
       " ('YYZ', (-0.08333333333333333+0j)),\n",
       " ('ZII', (-0.04166666666666667+0j)),\n",
       " ('ZIX', (0.16666666666666666+0j)),\n",
       " ('ZXI', (0.08333333333333333+0j)),\n",
       " ('ZXX', (0.08333333333333333+0j)),\n",
       " ('ZXZ', (0.08333333333333333+0j)),\n",
       " ('ZYY', (0.08333333333333333-0j)),\n",
       " ('ZZI', (0.04166666666666667+0j)),\n",
       " ('ZZX', (0.16666666666666666+0j))]"
      ]
     },
     "execution_count": 5,
     "metadata": {},
     "output_type": "execute_result"
    }
   ],
   "source": [
    "# pauli decomposition\n",
    "paulis = pauli_decomposition.to_list()\n",
    "\n",
    "paulis"
   ]
  },
  {
   "cell_type": "markdown",
   "metadata": {},
   "source": [
    "## Here though we have decomposed our state $\\rho$ into Pauli matrices, we don't know how to initialize our circuit in this particular state 🥲"
   ]
  },
  {
   "cell_type": "code",
   "execution_count": null,
   "metadata": {},
   "outputs": [],
   "source": []
  },
  {
   "cell_type": "markdown",
   "metadata": {},
   "source": [
    "# In the following, we will be using the library `qutip`"
   ]
  },
  {
   "cell_type": "code",
   "execution_count": 6,
   "metadata": {},
   "outputs": [],
   "source": [
    "import numpy as np\n",
    "import sympy as sp\n",
    "from qutip import *\n",
    "from scipy.linalg import block_diag"
   ]
  },
  {
   "cell_type": "code",
   "execution_count": 7,
   "metadata": {},
   "outputs": [],
   "source": [
    "# check if a given matrix is a density matrix or not\n",
    "def is_density_matrix(matrix):\n",
    "    # Check if the matrix is square\n",
    "    if matrix.shape[0] != matrix.shape[1]:\n",
    "        print(\"Matrix is not square\")\n",
    "        return False\n",
    "    \n",
    "    # Check if the matrix is Hermitian\n",
    "    if not np.allclose(matrix, matrix.conj().T):\n",
    "        print(\"Matrix is not Hermitian\")\n",
    "        return False\n",
    "    \n",
    "    # Check if the trace of the matrix is 1\n",
    "    if not np.isclose(np.trace(matrix), 1):\n",
    "        print(\"Trace of the matrix is not 1\")\n",
    "        return False\n",
    "    \n",
    "    # Check if all eigenvalues are non-negative\n",
    "    eigenvalues = np.linalg.eig(matrix)[0]\n",
    "    if not np.all(eigenvalues >= -1e-10):\n",
    "        print(\"Not all eigenvalues are non-negative\")\n",
    "        return False\n",
    "    \n",
    "    return True"
   ]
  },
  {
   "cell_type": "code",
   "execution_count": 8,
   "metadata": {},
   "outputs": [
    {
     "data": {
      "text/plain": [
       "True"
      ]
     },
     "execution_count": 8,
     "metadata": {},
     "output_type": "execute_result"
    }
   ],
   "source": [
    "# generating density matrix using qutip\n",
    "dm = rand_dm(5)\n",
    "# print(dm)\n",
    "is_density_matrix(dm.full())"
   ]
  },
  {
   "cell_type": "markdown",
   "metadata": {},
   "source": [
    "$\\rho = \\frac{1}{3} \\rho_1 \\oplus \\rho_2 \\oplus \\rho_3$, where,\n",
    "\n",
    "$$\\rho_1 = \\frac{1}{3}\n",
    "\\begin{bmatrix}\n",
    "    1 & 1 & 1 \\\\\n",
    "    1 & 1 & 1 \\\\\n",
    "    1 & 1 & 1\n",
    "\\end{bmatrix}\n",
    "            \\quad \n",
    "\\rho_2 = \\frac{1}{3}\n",
    "\\begin{bmatrix}\n",
    "    1 & 1 & -1 \\\\\n",
    "    1 & 1 & -1 \\\\\n",
    "    -1 & -1 & 1\n",
    "\\end{bmatrix} \\quad\n",
    "\\rho_3 = \\frac{1}{2}\n",
    "\\begin{bmatrix}\n",
    "    1 & 0 \\\\ 0 & 1\n",
    "\\end{bmatrix}$$\n",
    "\n",
    "\n",
    "We changed the definition of $\\rho_2$.\n",
    "\n",
    "Old:\n",
    "$$\\rho_2 = \\begin{bmatrix}\n",
    "    1 & 1 & 1 \\\\\n",
    "    1 & 1 & -1 \\\\\n",
    "    1 & -1 & 1\n",
    "\\end{bmatrix}$$\n",
    "\n",
    "New:\n",
    "$$\n",
    "\\rho_2 = \\begin{bmatrix}\n",
    "    1 & 1 & -1 \\\\\n",
    "    1 & 1 & -1 \\\\\n",
    "    -1 & -1 & 1\n",
    "\\end{bmatrix}\n",
    "$$"
   ]
  },
  {
   "cell_type": "code",
   "execution_count": 9,
   "metadata": {},
   "outputs": [
    {
     "data": {
      "text/latex": [
       "Quantum object: dims=[[8], [8]], shape=(8, 8), type='oper', dtype=Dense, isherm=True$$\\left(\\begin{array}{cc}0.111 & 0.111 & 0.111 & 0 & 0 & 0 & 0 & 0\\\\0.111 & 0.111 & 0.111 & 0 & 0 & 0 & 0 & 0\\\\0.111 & 0.111 & 0.111 & 0 & 0 & 0 & 0 & 0\\\\0 & 0 & 0 & 0.111 & 0.111 & -0.111 & 0 & 0\\\\0 & 0 & 0 & 0.111 & 0.111 & -0.111 & 0 & 0\\\\0 & 0 & 0 & -0.111 & -0.111 & 0.111 & 0 & 0\\\\0 & 0 & 0 & 0 & 0 & 0 & 0.167 & 0\\\\0 & 0 & 0 & 0 & 0 & 0 & 0 & 0.167\\end{array}\\right)$$"
      ],
      "text/plain": [
       "Quantum object: dims=[[8], [8]], shape=(8, 8), type='oper', dtype=Dense, isherm=True\n",
       "Qobj data =\n",
       "[[ 0.11111111  0.11111111  0.11111111  0.          0.          0.\n",
       "   0.          0.        ]\n",
       " [ 0.11111111  0.11111111  0.11111111  0.          0.          0.\n",
       "   0.          0.        ]\n",
       " [ 0.11111111  0.11111111  0.11111111  0.          0.          0.\n",
       "   0.          0.        ]\n",
       " [ 0.          0.          0.          0.11111111  0.11111111 -0.11111111\n",
       "   0.          0.        ]\n",
       " [ 0.          0.          0.          0.11111111  0.11111111 -0.11111111\n",
       "   0.          0.        ]\n",
       " [ 0.          0.          0.         -0.11111111 -0.11111111  0.11111111\n",
       "   0.          0.        ]\n",
       " [ 0.          0.          0.          0.          0.          0.\n",
       "   0.16666667  0.        ]\n",
       " [ 0.          0.          0.          0.          0.          0.\n",
       "   0.          0.16666667]]"
      ]
     },
     "execution_count": 9,
     "metadata": {},
     "output_type": "execute_result"
    }
   ],
   "source": [
    "# generating density matrix rho = (1/3) rho_1 ⊕ (1/3) rho_2 ⊕ (1/3) rho_3\n",
    "rho_1 = np.array([[1, 1, 1],\n",
    "                [1, 1, 1],\n",
    "                [1, 1, 1]]) / 3\n",
    "\n",
    "rho_2 = np.array([[1, 1, -1],\n",
    "                [1, 1, -1],\n",
    "                [-1, -1, 1]]) / 3\n",
    "\n",
    "rho_3 = np.array([[1, 0],\n",
    "                [0, 1]]) / 2\n",
    "\n",
    "# direct sum of rho_1, rho_2, and rho_3\n",
    "rho = np.array(block_diag(rho_1, rho_2, rho_3))/3       # it is an numpy array\n",
    "\n",
    "# convert rho into a qutip object\n",
    "rho = Qobj(rho)\n",
    "\n",
    "rho"
   ]
  },
  {
   "cell_type": "markdown",
   "metadata": {},
   "source": [
    "# Hamiltonian\n",
    "$H^{(8)} = \\mathbb I \\otimes \\mathbb I \\otimes H' + \\mathbb I \\otimes H' \\otimes \\mathbb I + \\mathbb I \\otimes\\mathbb I \\otimes H'$,\n",
    "\n",
    "where $H' = \\frac{1}{2} (\\mathbb I + Z)$"
   ]
  },
  {
   "cell_type": "code",
   "execution_count": 10,
   "metadata": {},
   "outputs": [
    {
     "data": {
      "text/latex": [
       "Quantum object: dims=[[8], [8]], shape=(8, 8), type='oper', dtype=Dense, isherm=True$$\\left(\\begin{array}{cc}3 & 0 & 0 & 0 & 0 & 0 & 0 & 0\\\\0 & 2 & 0 & 0 & 0 & 0 & 0 & 0\\\\0 & 0 & 2 & 0 & 0 & 0 & 0 & 0\\\\0 & 0 & 0 & 1 & 0 & 0 & 0 & 0\\\\0 & 0 & 0 & 0 & 2 & 0 & 0 & 0\\\\0 & 0 & 0 & 0 & 0 & 1 & 0 & 0\\\\0 & 0 & 0 & 0 & 0 & 0 & 1 & 0\\\\0 & 0 & 0 & 0 & 0 & 0 & 0 & 0\\end{array}\\right)$$"
      ],
      "text/plain": [
       "Quantum object: dims=[[8], [8]], shape=(8, 8), type='oper', dtype=Dense, isherm=True\n",
       "Qobj data =\n",
       "[[3. 0. 0. 0. 0. 0. 0. 0.]\n",
       " [0. 2. 0. 0. 0. 0. 0. 0.]\n",
       " [0. 0. 2. 0. 0. 0. 0. 0.]\n",
       " [0. 0. 0. 1. 0. 0. 0. 0.]\n",
       " [0. 0. 0. 0. 2. 0. 0. 0.]\n",
       " [0. 0. 0. 0. 0. 1. 0. 0.]\n",
       " [0. 0. 0. 0. 0. 0. 1. 0.]\n",
       " [0. 0. 0. 0. 0. 0. 0. 0.]]"
      ]
     },
     "execution_count": 10,
     "metadata": {},
     "output_type": "execute_result"
    }
   ],
   "source": [
    "# h = (I + Z)/2\n",
    "h = np.array([[1, 0],\n",
    "              [0, 0]])\n",
    "I = np.array([[1, 0],\n",
    "              [0, 1]])\n",
    "\n",
    "# H = h ⊗ I ⊗ I + I ⊗ h ⊗ I + I ⊗ I ⊗ h\n",
    "H = np.kron(np.kron(h, I), I) + np.kron(np.kron(I, h), I) + np.kron(np.kron(I, I), h)\n",
    "H = Qobj(H)\n",
    "H"
   ]
  },
  {
   "cell_type": "markdown",
   "metadata": {},
   "source": [
    "# Measurement"
   ]
  },
  {
   "cell_type": "code",
   "execution_count": 11,
   "metadata": {},
   "outputs": [],
   "source": [
    "from qutip.measurement import measure, measurement_statistics\n",
    "np.random.seed(12345)\n",
    "# H1 = np.diag([1,2,3,4,5,6,7,8])\n",
    "# H1 = Qobj(H1)\n",
    "\n",
    "# measure(rho, H1)"
   ]
  },
  {
   "cell_type": "code",
   "execution_count": 12,
   "metadata": {},
   "outputs": [],
   "source": [
    "# up = basis(2, 0)\n",
    "# down = basis(2, 1)\n",
    "\n",
    "# spin_z = sigmaz()\n",
    "# spin_x = sigmax()\n",
    "\n",
    "# from qutip.measurement import measure, measurement_statistics\n",
    "\n",
    "# measure(up, spin_z) == (1.0, up)\n",
    "\n",
    "# measure(down, spin_z) == (-1.0, down)"
   ]
  },
  {
   "cell_type": "markdown",
   "metadata": {},
   "source": [
    "First let us set our Projective measurement operators"
   ]
  },
  {
   "cell_type": "code",
   "execution_count": 13,
   "metadata": {},
   "outputs": [],
   "source": [
    "# kets in 4-dim Hilbert space\n",
    "ket00 = basis(4, 0)\n",
    "ket01 = basis(4, 1)\n",
    "ket10 = basis(4, 2)\n",
    "ket11 = basis(4, 3)\n",
    "\n",
    "# projective operators\n",
    "Z00, Z01, Z10, Z11 = ket2dm(ket00), ket2dm(ket01), ket2dm(ket10), ket2dm(ket11)\n",
    "\n",
    "\n",
    "# The following is the rank-2 projectors for our measurement\n",
    "\n",
    "P0, P1, P2, P3 = tensor(Z00, identity(2)), tensor(Z01, identity(2)), tensor(Z10, identity(2)), tensor(Z11, identity(2))\n",
    "\n",
    "\n",
    "''' \n",
    "    The following lines of codes are required for dimension matching of density_matrix\n",
    "    and projectors. It is a contraint of Qobj class in qutip\n",
    "'''\n",
    "\n",
    "P0, P1, P2, P3 = P0.full(), P1.full(), P2.full(), P3.full()\n",
    "P0, P1, P2, P3 = Qobj(P0), Qobj(P1), Qobj(P2), Qobj(P3)"
   ]
  },
  {
   "cell_type": "code",
   "execution_count": 14,
   "metadata": {},
   "outputs": [],
   "source": [
    "# outcome, post_measure_state = measure(rho, projectors)\n",
    "# print(outcome)\n",
    "# print(post_measure_state)"
   ]
  },
  {
   "cell_type": "code",
   "execution_count": 15,
   "metadata": {},
   "outputs": [
    {
     "name": "stdout",
     "output_type": "stream",
     "text": [
      "{0.0: 217, 1.0: 224, 2.0: 221, 3.0: 338}\n"
     ]
    },
    {
     "data": {
      "text/plain": [
       "dict_keys([0.0, 1.0, 2.0, 3.0])"
      ]
     },
     "execution_count": 15,
     "metadata": {},
     "output_type": "execute_result"
    }
   ],
   "source": [
    "# defining projective operators\n",
    "projectors = [P0, P1, P2, P3]\n",
    "\n",
    "''' \n",
    "    Results is a dictionary that intializes the keys with number of corresponding outcomes.\n",
    "    After repeated measurements, the counter for each outcome is incremented.\n",
    "'''\n",
    "results = {0.0:0, 1.0:0, 2.0:0, 3.0:0}\n",
    "for i in range(1000):\n",
    "    value, new_state = measure(rho, projectors)\n",
    "    results[round(value)] += 1\n",
    "    \n",
    "print(results)\n",
    "results.keys()"
   ]
  },
  {
   "cell_type": "code",
   "execution_count": 16,
   "metadata": {},
   "outputs": [],
   "source": [
    "# probability estimation in stage 1\n",
    "\n",
    "def algorithm_stage1(rho, projectors, num_shots):\n",
    "    outcomes = {0.0:0, 1.0:0, 2.0:0, 3.0:0}\n",
    "    for i in range(num_shots):\n",
    "        value, _ = measure(rho, projectors)\n",
    "        outcomes[round(value)] += 1\n",
    "    # divide by the number of shots to get the probability\n",
    "    for key in outcomes.keys():\n",
    "        outcomes[key] /= num_shots\n",
    "    return outcomes"
   ]
  },
  {
   "cell_type": "code",
   "execution_count": 17,
   "metadata": {},
   "outputs": [
    {
     "data": {
      "text/plain": [
       "{0.0: 0.231, 1.0: 0.221, 2.0: 0.222, 3.0: 0.326}"
      ]
     },
     "execution_count": 17,
     "metadata": {},
     "output_type": "execute_result"
    }
   ],
   "source": [
    "algorithm_stage1(rho, projectors, 1000)"
   ]
  },
  {
   "cell_type": "code",
   "execution_count": 18,
   "metadata": {},
   "outputs": [],
   "source": [
    "# create a histogram for the probabilities\n",
    "def plot_histogram(probabilities):\n",
    "    plt.bar(probabilities.keys(), probabilities.values())\n",
    "    plt.xlabel('Outcomes')\n",
    "    plt.ylabel('Probabilities')\n",
    "    plt.show()"
   ]
  },
  {
   "cell_type": "code",
   "execution_count": 19,
   "metadata": {},
   "outputs": [
    {
     "data": {
      "image/png": "[encoded data removed]",
      "text/plain": [
       "<Figure size 640x480 with 1 Axes>"
      ]
     },
     "metadata": {},
     "output_type": "display_data"
    }
   ],
   "source": [
    "plot_histogram(algorithm_stage1(rho, projectors, 10000))"
   ]
  },
  {
   "cell_type": "code",
   "execution_count": 20,
   "metadata": {},
   "outputs": [
    {
     "name": "stdout",
     "output_type": "stream",
     "text": [
      "[5.0, 3.0, 3.0, 1.0]\n"
     ]
    },
    {
     "data": {
      "text/plain": [
       "5.0"
      ]
     },
     "execution_count": 20,
     "metadata": {},
     "output_type": "execute_result"
    }
   ],
   "source": [
    "# Measurement outcome of hamiltonian for each projective measurement outcome\n",
    "_energies = []\n",
    "\n",
    "for P in projectors:\n",
    "    energy = np.trace( (P * H * P.dag()).full() )\n",
    "    _energies.append(energy.real)\n",
    "\n",
    "print(_energies)\n",
    "\n",
    "standard_outcome_to_energy_outcomes = {0.0:5.0, 1.0:3.0, 2.0:3.0, 3.0:1.0}\n",
    "standard_outcome_to_energy_outcomes[0.0]\n"
   ]
  },
  {
   "cell_type": "code",
   "execution_count": null,
   "metadata": {},
   "outputs": [],
   "source": []
  },
  {
   "cell_type": "code",
   "execution_count": 21,
   "metadata": {},
   "outputs": [
    {
     "data": {
      "text/latex": [
       "Quantum object: dims=[[8], [8]], shape=(8, 8), type='oper', dtype=Dense, isherm=True$$\\left(\\begin{array}{cc}0.111 & 0.111 & 0.111 & 0 & 0 & 0 & 0 & 0\\\\0.111 & 0.111 & 0.111 & 0 & 0 & 0 & 0 & 0\\\\0.111 & 0.111 & 0.111 & 0 & 0 & 0 & 0 & 0\\\\0 & 0 & 0 & 0.111 & 0.111 & -0.111 & 0 & 0\\\\0 & 0 & 0 & 0.111 & 0.111 & -0.111 & 0 & 0\\\\0 & 0 & 0 & -0.111 & -0.111 & 0.111 & 0 & 0\\\\0 & 0 & 0 & 0 & 0 & 0 & 0.167 & 0\\\\0 & 0 & 0 & 0 & 0 & 0 & 0 & 0.167\\end{array}\\right)$$"
      ],
      "text/plain": [
       "Quantum object: dims=[[8], [8]], shape=(8, 8), type='oper', dtype=Dense, isherm=True\n",
       "Qobj data =\n",
       "[[ 0.11111111  0.11111111  0.11111111  0.          0.          0.\n",
       "   0.          0.        ]\n",
       " [ 0.11111111  0.11111111  0.11111111  0.          0.          0.\n",
       "   0.          0.        ]\n",
       " [ 0.11111111  0.11111111  0.11111111  0.          0.          0.\n",
       "   0.          0.        ]\n",
       " [ 0.          0.          0.          0.11111111  0.11111111 -0.11111111\n",
       "   0.          0.        ]\n",
       " [ 0.          0.          0.          0.11111111  0.11111111 -0.11111111\n",
       "   0.          0.        ]\n",
       " [ 0.          0.          0.         -0.11111111 -0.11111111  0.11111111\n",
       "   0.          0.        ]\n",
       " [ 0.          0.          0.          0.          0.          0.\n",
       "   0.16666667  0.        ]\n",
       " [ 0.          0.          0.          0.          0.          0.\n",
       "   0.          0.16666667]]"
      ]
     },
     "execution_count": 21,
     "metadata": {},
     "output_type": "execute_result"
    }
   ],
   "source": [
    "rho"
   ]
  },
  {
   "cell_type": "markdown",
   "metadata": {},
   "source": [
    "Pauli Group"
   ]
  },
  {
   "cell_type": "code",
   "execution_count": 22,
   "metadata": {},
   "outputs": [],
   "source": [
    "# Pauli matrices\n",
    "I, X, Y, Z = qeye(2), sigmax(), sigmay(), sigmaz()\n",
    "\n",
    "# Pauli group\n",
    "pauli_group = []\n",
    "\n",
    "for op in [I, X, Y, Z]:\n",
    "    pauli_group.append(op)\n",
    "    pauli_group.append(-1*op)\n",
    "    pauli_group.append(1j*op)\n",
    "    pauli_group.append(-1j*op)"
   ]
  },
  {
   "cell_type": "markdown",
   "metadata": {},
   "source": [
    "# Algorithm for work extraction"
   ]
  },
  {
   "cell_type": "markdown",
   "metadata": {},
   "source": [
    "The Algorithm"
   ]
  },
  {
   "cell_type": "code",
   "execution_count": 23,
   "metadata": {},
   "outputs": [],
   "source": [
    "# stage 2 of algorithm\n",
    "def algorithm_stage2(density_matrix, hamiltonian, total_iter):\n",
    "    #TODO: change the outcome of the measurement to corresponding energy outcome\n",
    "    energy_outcomes = []\n",
    "    for iteration in range(total_iter):\n",
    "        if np.random.choice([0, 1]) == 0:\n",
    "            outcome, _ = measure(density_matrix, projectors)\n",
    "            energy_outcomes.append(standard_outcome_to_energy_outcomes[outcome])\n",
    "            \n",
    "        else:\n",
    "            # measure density matrix \n",
    "            _, post_measure_state = measure(density_matrix, projectors)\n",
    "            u_random = np.random.choice(pauli_group)\n",
    "\n",
    "            # I_M ⊗ U_r         refer to overleaf document for more details\n",
    "            u = tensor(qeye(4), u_random)  # currently hard coded. We will change 4 to general dimension\n",
    "            u = Qobj(u.full()) # converting to np.array and again back to Qobj to match the dimension\n",
    "            density_matrix = u * post_measure_state * u.dag()\n",
    "           \n",
    "            U_gl = qeye(8)      # global unitary\n",
    "            density_matrix = U_gl * density_matrix * U_gl.dag()\n",
    "\n",
    "            # measure -H\n",
    "            outcome, _ = measure(density_matrix, projectors)\n",
    "            energy_outcomes.append(-1 * standard_outcome_to_energy_outcomes[outcome])\n",
    "    \n",
    "    return np.array(energy_outcomes)"
   ]
  },
  {
   "cell_type": "code",
   "execution_count": 24,
   "metadata": {},
   "outputs": [
    {
     "name": "stdout",
     "output_type": "stream",
     "text": [
      "Total iterations: 10, Extractable work: -2.6\n",
      "Total iterations: 100, Extractable work: 0.16\n",
      "Total iterations: 1000, Extractable work: -0.042\n",
      "Total iterations: 10000, Extractable work: -0.0034\n",
      "Total iterations: 100000, Extractable work: -0.00472\n",
      "Total iterations: 1000000, Extractable work: -0.002058\n"
     ]
    }
   ],
   "source": [
    "algorithm_stage2(rho, H, 100000)\n",
    "\n",
    "extractable_work = np.mean(algorithm_stage2(rho, H, 1000))\n",
    "\n",
    "\n",
    "for total_iter in [10, 100, 1000, 10000, 100000, 1000000]:\n",
    "    extractable_work = np.mean(algorithm_stage2(rho, H, total_iter))\n",
    "    print(f\"Total iterations: {total_iter}, Extractable work: {extractable_work}\")"
   ]
  },
  {
   "cell_type": "code",
   "execution_count": 25,
   "metadata": {},
   "outputs": [
    {
     "data": {
      "image/png": "[encoded data removed]",
      "text/plain": [
       "<Figure size 640x480 with 1 Axes>"
      ]
     },
     "metadata": {},
     "output_type": "display_data"
    }
   ],
   "source": [
    "# plot the above outcomes\n",
    "import matplotlib.pyplot as plt\n",
    "\n",
    "extractable_works = [-0.2, -0.48, -0.012, -0.0072, -0.00786, 0.001214]\n",
    "total_iters = [10, 100, 1000, 10000, 100000, 1000000]\n",
    "\n",
    "#plot in log scale\n",
    "plt.plot(np.log10(total_iters), extractable_works)\n",
    "plt.xlabel(\"Total iterations (in log scale)\")\n",
    "plt.ylabel(\"Extractable work\")\n",
    "plt.title(\"Extractable work vs Total iterations\")\n",
    "plt.show()\n"
   ]
  },
  {
   "cell_type": "code",
   "execution_count": 26,
   "metadata": {},
   "outputs": [
    {
     "name": "stdout",
     "output_type": "stream",
     "text": [
      "Total iterations: 1000000, Extractable work: -1.8e-05\n"
     ]
    }
   ],
   "source": [
    "extractable_work = np.mean(algorithm_stage2(rho, H, 1000000))\n",
    "print(f\"Total iterations: {1000000}, Extractable work: {extractable_work}\")"
   ]
  },
  {
   "cell_type": "code",
   "execution_count": 27,
   "metadata": {},
   "outputs": [
    {
     "name": "stdout",
     "output_type": "stream",
     "text": [
      "-0.0038\n"
     ]
    }
   ],
   "source": [
    "print(np.mean(algorithm_stage2(rho, H, 10000)))"
   ]
  },
  {
   "cell_type": "code",
   "execution_count": null,
   "metadata": {},
   "outputs": [],
   "source": []
  },
  {
   "cell_type": "markdown",
   "metadata": {},
   "source": []
  }
 ],
 "metadata": {
  "kernelspec": {
   "display_name": "qiskit-1",
   "language": "python",
   "name": "python3"
  },
  "language_info": {
   "codemirror_mode": {
    "name": "ipython",
    "version": 3
   },
   "file_extension": ".py",
   "mimetype": "text/x-python",
   "name": "python",
   "nbconvert_exporter": "python",
   "pygments_lexer": "ipython3",
   "version": "3.12.3"
  }
 },
 "nbformat": 4,
 "nbformat_minor": 2
}
