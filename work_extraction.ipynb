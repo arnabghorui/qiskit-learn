{
 "cells": [
  {
   "cell_type": "code",
   "execution_count": 1,
   "metadata": {},
   "outputs": [],
   "source": [
    "import numpy as np\n",
    "import matplotlib.pyplot as plt\n",
    "from qiskit import *\n",
    "\n",
    "from qiskit_aer import Aer"
   ]
  },
  {
   "cell_type": "markdown",
   "metadata": {},
   "source": [
    "We can simulate without using `qiskit` just by using python packages. There we don't need to worry about the initial state $\\rho$. We assume it is given to us, in classical matrix form. So the expectation values can be calculated just by calculating traces."
   ]
  },
  {
   "cell_type": "markdown",
   "metadata": {},
   "source": [
    "# Notes\n",
    "Let, $\\rho = \\sum_{i=1}^d c_i X_i$\n",
    "\n",
    "It is assumed that $X_i$'s are independent and orthonormal i.e $Tr(X_i^\\dagger X_j) = \\delta_{ij}$.\n",
    "\n",
    "Then, $Tr(\\rho X_i) = c_i$\n",
    "\n",
    "Our initial state is $\\rho = \\rho_1 \\oplus \\rho_2 \\oplus \\rho_3$, where,\n",
    "\n",
    "$$\\rho_1 = \\frac{1}{3}\n",
    "\\begin{bmatrix}\n",
    "    1 & 1 & 1 \\\\\n",
    "    1 & 1 & 1 \\\\\n",
    "    1 & 1 & 1\n",
    "\\end{bmatrix}\n",
    "            \\quad \n",
    "\\rho_2 = \\frac{1}{3}\n",
    "\\begin{bmatrix}\n",
    "    1 & 1 & 1 \\\\\n",
    "    1 & 1 & -1 \\\\\n",
    "    1 & -1 & 1\n",
    "\\end{bmatrix} \\quad\n",
    "\\rho_3 = \\frac{1}{2}\n",
    "\\begin{bmatrix}\n",
    "    1 & 0 \\\\ 0 & 1\n",
    "\\end{bmatrix}$$\n",
    "\n",
    "\n",
    "We want to find `Pauli Decomposition` of $\\rho$ i.e. to find $c_i$'s where $X_i$'s are Pauli matrices/tensor products of Pauli matrices."
   ]
  },
  {
   "cell_type": "markdown",
   "metadata": {},
   "source": [
    "# Reference from [here](https://docs.quantum.ibm.com/build/specify-observables-pauli)"
   ]
  },
  {
   "cell_type": "code",
   "execution_count": 46,
   "metadata": {},
   "outputs": [],
   "source": [
    "#TODO: initialize a mixed state\n",
    "from scipy.linalg import block_diag\n",
    "from qiskit.quantum_info import DensityMatrix\n",
    "\n",
    "\n",
    "# specify the quantum state in an array\n",
    "rho_1 = (1/3)*np.array([[1,1,1],\n",
    "                        [1,1,1],\n",
    "                        [1,1,1]])\n",
    "\n",
    "rho_2 = (1/3)*np.array([[1,1,1],\n",
    "                        [1,1,-1],\n",
    "                        [1,-1,1]])\n",
    "\n",
    "rho_3 = (1/2)*np.array([[1,0],\n",
    "                        [0,1]])\n",
    "\n",
    "# direct sum of rho_1, rho_2, and rho_3\n",
    "\n",
    "rho =  block_diag(rho_1, rho_2, rho_3)\n",
    "# this is our initial mixed state\n",
    "\n",
    "#convert rho into density matrix\n",
    "rho = DensityMatrix(rho)"
   ]
  },
  {
   "cell_type": "code",
   "execution_count": 47,
   "metadata": {},
   "outputs": [
    {
     "data": {
      "text/plain": [
       "False"
      ]
     },
     "execution_count": 47,
     "metadata": {},
     "output_type": "execute_result"
    }
   ],
   "source": [
    "DensityMatrix.is_valid(rho)"
   ]
  },
  {
   "cell_type": "code",
   "execution_count": 31,
   "metadata": {},
   "outputs": [],
   "source": [
    "# Pauli decomposition\n",
    "from qiskit.quantum_info import SparsePauliOp\n",
    "\n",
    "pauli_decomposition = SparsePauliOp.from_operator(rho)"
   ]
  },
  {
   "cell_type": "code",
   "execution_count": 36,
   "metadata": {},
   "outputs": [
    {
     "data": {
      "text/plain": [
       "[('III', (0.375+0j)),\n",
       " ('IXI', (0.08333333333333333+0j)),\n",
       " ('IXX', (0.08333333333333333+0j)),\n",
       " ('IXZ', (0.08333333333333333+0j)),\n",
       " ('IYY', (0.08333333333333333-0j)),\n",
       " ('IZI', (-0.04166666666666666+0j)),\n",
       " ('XXI', (0.08333333333333333+0j)),\n",
       " ('XXX', (0.08333333333333333+0j)),\n",
       " ('XXZ', (-0.08333333333333333+0j)),\n",
       " ('XYY', (-0.08333333333333333+0j)),\n",
       " ('YXY', (0.08333333333333333-0j)),\n",
       " ('YYI', (0.08333333333333333-0j)),\n",
       " ('YYX', (0.08333333333333333-0j)),\n",
       " ('YYZ', (-0.08333333333333333+0j)),\n",
       " ('ZII', (-0.04166666666666667+0j)),\n",
       " ('ZIX', (0.16666666666666666+0j)),\n",
       " ('ZXI', (0.08333333333333333+0j)),\n",
       " ('ZXX', (0.08333333333333333+0j)),\n",
       " ('ZXZ', (0.08333333333333333+0j)),\n",
       " ('ZYY', (0.08333333333333333-0j)),\n",
       " ('ZZI', (0.04166666666666667+0j)),\n",
       " ('ZZX', (0.16666666666666666+0j))]"
      ]
     },
     "execution_count": 36,
     "metadata": {},
     "output_type": "execute_result"
    }
   ],
   "source": [
    "# pauli decomposition\n",
    "paulis = pauli_decomposition.to_list()\n",
    "\n",
    "paulis"
   ]
  },
  {
   "cell_type": "markdown",
   "metadata": {},
   "source": [
    "## Here though we have decomposed our state $\\rho$ into Pauli matrices, we don't know how to initialize our circuit in this particular state 🥲"
   ]
  },
  {
   "cell_type": "code",
   "execution_count": null,
   "metadata": {},
   "outputs": [],
   "source": []
  }
 ],
 "metadata": {
  "kernelspec": {
   "display_name": "qiskit-1",
   "language": "python",
   "name": "python3"
  },
  "language_info": {
   "codemirror_mode": {
    "name": "ipython",
    "version": 3
   },
   "file_extension": ".py",
   "mimetype": "text/x-python",
   "name": "python",
   "nbconvert_exporter": "python",
   "pygments_lexer": "ipython3",
   "version": "3.12.3"
  }
 },
 "nbformat": 4,
 "nbformat_minor": 2
}
