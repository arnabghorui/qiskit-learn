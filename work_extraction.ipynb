{
 "cells": [
  {
   "cell_type": "code",
   "execution_count": 6,
   "metadata": {},
   "outputs": [],
   "source": [
    "import numpy as np\n",
    "import matplotlib.pyplot as plt\n",
    "from qiskit import *\n",
    "\n",
    "from qiskit_aer import Aer"
   ]
  },
  {
   "cell_type": "markdown",
   "metadata": {},
   "source": [
    "We can simulate without using `qiskit` just by using python packages. There we don't need to worry about the initial state $\\rho$. We assume it is given to us, in classical matrix form. So the expectation values can be calculated just by calculating traces."
   ]
  },
  {
   "cell_type": "markdown",
   "metadata": {},
   "source": [
    "# Notes\n",
    "Let, $\\rho = \\sum_{i=1}^d c_i X_i$\n",
    "\n",
    "It is assumed that $X_i$'s are independent and orthonormal i.e $Tr(X_i^\\dagger X_j) = \\delta_{ij}$.\n",
    "\n",
    "Then, $Tr(\\rho X_i) = c_i$\n",
    "\n",
    "Our initial state is $\\rho = \\rho_1 \\oplus \\rho_2 \\oplus \\rho_3$, where,\n",
    "\n",
    "$$\\rho_1 = \\frac{1}{3}\n",
    "\\begin{bmatrix}\n",
    "    1 & 1 & 1 \\\\\n",
    "    1 & 1 & 1 \\\\\n",
    "    1 & 1 & 1\n",
    "\\end{bmatrix}\n",
    "            \\quad \n",
    "\\rho_2 = \\frac{1}{3}\n",
    "\\begin{bmatrix}\n",
    "    1 & 1 & 1 \\\\\n",
    "    1 & 1 & -1 \\\\\n",
    "    1 & -1 & 1\n",
    "\\end{bmatrix} \\quad\n",
    "\\rho_3 = \\frac{1}{2}\n",
    "\\begin{bmatrix}\n",
    "    1 & 0 \\\\ 0 & 1\n",
    "\\end{bmatrix}$$\n",
    "\n",
    "\n",
    "We want to find `Pauli Decomposition` of $\\rho$ i.e. to find $c_i$'s where $X_i$'s are Pauli matrices/tensor products of Pauli matrices."
   ]
  },
  {
   "cell_type": "markdown",
   "metadata": {},
   "source": [
    "# Reference from [here](https://docs.quantum.ibm.com/build/specify-observables-pauli)"
   ]
  },
  {
   "cell_type": "code",
   "execution_count": 7,
   "metadata": {},
   "outputs": [],
   "source": [
    "#TODO: initialize a mixed state\n",
    "from scipy.linalg import block_diag\n",
    "from qiskit.quantum_info import DensityMatrix\n",
    "\n",
    "\n",
    "# specify the quantum state in an array\n",
    "rho_1 = (1/3)*np.array([[1,1,1],\n",
    "                        [1,1,1],\n",
    "                        [1,1,1]])\n",
    "\n",
    "rho_2 = (1/3)*np.array([[1,1,1],\n",
    "                        [1,1,-1],\n",
    "                        [1,-1,1]])\n",
    "\n",
    "rho_3 = (1/2)*np.array([[1,0],\n",
    "                        [0,1]])\n",
    "\n",
    "# direct sum of rho_1, rho_2, and rho_3\n",
    "\n",
    "rho =  block_diag(rho_1, rho_2, rho_3)\n",
    "# this is our initial mixed state\n",
    "\n",
    "#convert rho into density matrix\n",
    "rho = DensityMatrix(rho)"
   ]
  },
  {
   "cell_type": "code",
   "execution_count": 8,
   "metadata": {},
   "outputs": [
    {
     "data": {
      "text/plain": [
       "False"
      ]
     },
     "execution_count": 8,
     "metadata": {},
     "output_type": "execute_result"
    }
   ],
   "source": [
    "DensityMatrix.is_valid(rho)"
   ]
  },
  {
   "cell_type": "code",
   "execution_count": 9,
   "metadata": {},
   "outputs": [],
   "source": [
    "# Pauli decomposition\n",
    "from qiskit.quantum_info import SparsePauliOp\n",
    "\n",
    "pauli_decomposition = SparsePauliOp.from_operator(rho)"
   ]
  },
  {
   "cell_type": "code",
   "execution_count": 10,
   "metadata": {},
   "outputs": [
    {
     "data": {
      "text/plain": [
       "[('III', (0.375+0j)),\n",
       " ('IXI', (0.08333333333333333+0j)),\n",
       " ('IXX', (0.08333333333333333+0j)),\n",
       " ('IXZ', (0.08333333333333333+0j)),\n",
       " ('IYY', (0.08333333333333333-0j)),\n",
       " ('IZI', (-0.04166666666666666+0j)),\n",
       " ('XXI', (0.08333333333333333+0j)),\n",
       " ('XXX', (0.08333333333333333+0j)),\n",
       " ('XXZ', (-0.08333333333333333+0j)),\n",
       " ('XYY', (-0.08333333333333333+0j)),\n",
       " ('YXY', (0.08333333333333333-0j)),\n",
       " ('YYI', (0.08333333333333333-0j)),\n",
       " ('YYX', (0.08333333333333333-0j)),\n",
       " ('YYZ', (-0.08333333333333333+0j)),\n",
       " ('ZII', (-0.04166666666666667+0j)),\n",
       " ('ZIX', (0.16666666666666666+0j)),\n",
       " ('ZXI', (0.08333333333333333+0j)),\n",
       " ('ZXX', (0.08333333333333333+0j)),\n",
       " ('ZXZ', (0.08333333333333333+0j)),\n",
       " ('ZYY', (0.08333333333333333-0j)),\n",
       " ('ZZI', (0.04166666666666667+0j)),\n",
       " ('ZZX', (0.16666666666666666+0j))]"
      ]
     },
     "execution_count": 10,
     "metadata": {},
     "output_type": "execute_result"
    }
   ],
   "source": [
    "# pauli decomposition\n",
    "paulis = pauli_decomposition.to_list()\n",
    "\n",
    "paulis"
   ]
  },
  {
   "cell_type": "markdown",
   "metadata": {},
   "source": [
    "## Here though we have decomposed our state $\\rho$ into Pauli matrices, we don't know how to initialize our circuit in this particular state 🥲"
   ]
  },
  {
   "cell_type": "code",
   "execution_count": null,
   "metadata": {},
   "outputs": [],
   "source": []
  },
  {
   "cell_type": "markdown",
   "metadata": {},
   "source": [
    "# Let us also try implementing this _from scratch_ without using `qiskit`."
   ]
  },
  {
   "cell_type": "code",
   "execution_count": 1,
   "metadata": {},
   "outputs": [],
   "source": [
    "import numpy as np\n",
    "import sympy as sp"
   ]
  },
  {
   "cell_type": "code",
   "execution_count": 52,
   "metadata": {},
   "outputs": [],
   "source": [
    "import numpy as np\n",
    "\n",
    "def is_density_matrix(matrix):\n",
    "    # Check if the matrix is square\n",
    "    if matrix.shape[0] != matrix.shape[1]:\n",
    "        print(\"Matrix is not square\")\n",
    "        return False\n",
    "    \n",
    "    # Check if the matrix is Hermitian\n",
    "    if not np.allclose(matrix, matrix.conj().T):\n",
    "        print(\"Matrix is not Hermitian\")\n",
    "        return False\n",
    "    \n",
    "    # Check if the trace of the matrix is 1\n",
    "    if not np.isclose(np.trace(matrix), 1):\n",
    "        print(\"Trace of the matrix is not 1\")\n",
    "        return False\n",
    "    \n",
    "    # Check if all eigenvalues are non-negative\n",
    "    eigenvalues = np.linalg.eigvalsh(matrix)\n",
    "    if not np.all(eigenvalues >= 0):\n",
    "        print(\"Not all eigenvalues are non-negative\")\n",
    "        return False\n",
    "    \n",
    "    return True"
   ]
  },
  {
   "cell_type": "code",
   "execution_count": 64,
   "metadata": {},
   "outputs": [
    {
     "name": "stdout",
     "output_type": "stream",
     "text": [
      "[[0.47745114+0.j         0.20956461-0.08448192j]\n",
      " [0.20956461+0.08448192j 0.52254886+0.j        ]]\n"
     ]
    },
    {
     "data": {
      "text/plain": [
       "True"
      ]
     },
     "execution_count": 64,
     "metadata": {},
     "output_type": "execute_result"
    }
   ],
   "source": [
    "# import numpy as np\n",
    "\n",
    "# Generate a random Hermitian matrix\n",
    "random_matrix = np.random.rand(2, 2) + 1j * np.random.rand(2, 2)\n",
    "hermitian_matrix = (random_matrix + random_matrix.conj().T) / 2\n",
    "\n",
    "# Normalize the matrix to have trace 1\n",
    "trace = np.trace(hermitian_matrix)\n",
    "density_matrix = hermitian_matrix / trace\n",
    "\n",
    "print(density_matrix)   \n",
    "is_density_matrix(density_matrix)"
   ]
  },
  {
   "cell_type": "code",
   "execution_count": 107,
   "metadata": {},
   "outputs": [
    {
     "name": "stdout",
     "output_type": "stream",
     "text": [
      "Quantum object: dims=[[5], [5]], shape=(5, 5), type='oper', dtype=Dense, isherm=True\n",
      "Qobj data =\n",
      "[[ 0.28474082-5.92230114e-19j  0.0332165 -7.12479998e-02j\n",
      "   0.0554261 +7.19016757e-02j -0.06524217-1.31167879e-01j\n",
      "  -0.09609442+6.94133485e-02j]\n",
      " [ 0.0332165 +7.12479998e-02j  0.19222892-3.99815356e-19j\n",
      "  -0.04695128-5.15906989e-02j  0.08196304+2.84208391e-02j\n",
      "  -0.03516011-5.36887955e-02j]\n",
      " [ 0.0554261 -7.19016757e-02j -0.04695128+5.15906989e-02j\n",
      "   0.10927596-2.27282168e-19j -0.08223806-3.98941419e-02j\n",
      "   0.00334973+7.93835268e-02j]\n",
      " [-0.06524217+1.31167879e-01j  0.08196304-2.84208391e-02j\n",
      "  -0.08223806+3.98941419e-02j  0.24352848-5.06512909e-19j\n",
      "  -0.01859696-5.15179286e-02j]\n",
      " [-0.09609442-6.94133485e-02j -0.03516011+5.36887955e-02j\n",
      "   0.00334973-7.93835268e-02j -0.01859696+5.15179286e-02j\n",
      "   0.17022582+1.72584055e-18j]]\n"
     ]
    },
    {
     "data": {
      "text/plain": [
       "True"
      ]
     },
     "execution_count": 107,
     "metadata": {},
     "output_type": "execute_result"
    }
   ],
   "source": [
    "from qutip import *\n",
    "dm = rand_dm(5)\n",
    "print(dm)\n",
    "is_density_matrix(dm.full())\n",
    "  "
   ]
  },
  {
   "cell_type": "code",
   "execution_count": 110,
   "metadata": {},
   "outputs": [],
   "source": [
    "I, X, Y, Z = qeye(2), sigmax(), sigmay(), sigmaz()\n",
    "I, X, Y, Z = np.array(I), np.array(X), np.array(Y), np.array(Z)"
   ]
  },
  {
   "cell_type": "code",
   "execution_count": null,
   "metadata": {},
   "outputs": [],
   "source": []
  }
 ],
 "metadata": {
  "kernelspec": {
   "display_name": "qiskit-1",
   "language": "python",
   "name": "python3"
  },
  "language_info": {
   "codemirror_mode": {
    "name": "ipython",
    "version": 3
   },
   "file_extension": ".py",
   "mimetype": "text/x-python",
   "name": "python",
   "nbconvert_exporter": "python",
   "pygments_lexer": "ipython3",
   "version": "3.12.3"
  }
 },
 "nbformat": 4,
 "nbformat_minor": 2
}
