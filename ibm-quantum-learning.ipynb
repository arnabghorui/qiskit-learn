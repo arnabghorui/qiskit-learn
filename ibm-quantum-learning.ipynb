{
 "cells": [
  {
   "cell_type": "markdown",
   "metadata": {},
   "source": [
    "# The examples are from [IBM Quantum Learning](https://learning.quantum.ibm.com/)"
   ]
  },
  {
   "cell_type": "markdown",
   "metadata": {},
   "source": [
    "## [Single Systems](https://learning.quantum.ibm.com/course/basics-of-quantum-information/single-systems#qiskit-examples)"
   ]
  },
  {
   "cell_type": "markdown",
   "metadata": {},
   "source": [
    "### State vectors"
   ]
  },
  {
   "cell_type": "code",
   "execution_count": 40,
   "metadata": {},
   "outputs": [],
   "source": [
    "from qiskit.quantum_info import Statevector\n",
    "import numpy as np"
   ]
  },
  {
   "cell_type": "code",
   "execution_count": 41,
   "metadata": {},
   "outputs": [],
   "source": [
    "u = Statevector([1, 0])\n",
    "v = Statevector([0, 1])\n",
    "w = Statevector([1/np.sqrt(2), 1/np.sqrt(2)])\n",
    "x = Statevector([1/np.sqrt(2), 0])"
   ]
  },
  {
   "cell_type": "code",
   "execution_count": 42,
   "metadata": {},
   "outputs": [
    {
     "data": {
      "text/latex": [
       "$$ |0\\rangle$$"
      ],
      "text/plain": [
       "<IPython.core.display.Latex object>"
      ]
     },
     "metadata": {},
     "output_type": "display_data"
    },
    {
     "data": {
      "text/latex": [
       "$$ |1\\rangle$$"
      ],
      "text/plain": [
       "<IPython.core.display.Latex object>"
      ]
     },
     "metadata": {},
     "output_type": "display_data"
    },
    {
     "data": {
      "text/latex": [
       "$$\\frac{\\sqrt{2}}{2} |0\\rangle+\\frac{\\sqrt{2}}{2} |1\\rangle$$"
      ],
      "text/plain": [
       "<IPython.core.display.Latex object>"
      ]
     },
     "metadata": {},
     "output_type": "display_data"
    },
    {
     "data": {
      "text/latex": [
       "$$\\frac{\\sqrt{2}}{2} |0\\rangle$$"
      ],
      "text/plain": [
       "<IPython.core.display.Latex object>"
      ]
     },
     "metadata": {},
     "output_type": "display_data"
    }
   ],
   "source": [
    "display(u.draw('latex'))\n",
    "display(v.draw('latex'))\n",
    "display(w.draw('latex'))\n",
    "display(x.draw('latex'))"
   ]
  },
  {
   "cell_type": "markdown",
   "metadata": {},
   "source": [
    "Check if these states are valid"
   ]
  },
  {
   "cell_type": "code",
   "execution_count": 43,
   "metadata": {},
   "outputs": [
    {
     "name": "stdout",
     "output_type": "stream",
     "text": [
      "Is u a valid state?: True\n",
      "Is x a valid state?: False\n"
     ]
    }
   ],
   "source": [
    "print(f'Is u a valid state?: {u.is_valid()}')\n",
    "print(f'Is x a valid state?: {x.is_valid()}')\n",
    "\n",
    "# is_valid checks if the vectors have norm 1"
   ]
  },
  {
   "cell_type": "markdown",
   "metadata": {},
   "source": [
    "### Simulating measurements"
   ]
  },
  {
   "cell_type": "code",
   "execution_count": 44,
   "metadata": {},
   "outputs": [
    {
     "data": {
      "text/latex": [
       "$$(0.1690308509 + 0.5070925528 i) |0\\rangle- \\frac{\\sqrt{35}}{7} |1\\rangle$$"
      ],
      "text/plain": [
       "<IPython.core.display.Latex object>"
      ]
     },
     "execution_count": 44,
     "metadata": {},
     "output_type": "execute_result"
    }
   ],
   "source": [
    "# create a state v\n",
    "v = Statevector([1+3.0j, -5]/np.sqrt(35))\n",
    "v.draw('latex')"
   ]
  },
  {
   "cell_type": "code",
   "execution_count": 45,
   "metadata": {},
   "outputs": [
    {
     "data": {
      "text/plain": [
       "('0',\n",
       " Statevector([0.31622777+0.9486833j, 0.        +0.j       ],\n",
       "             dims=(2,)))"
      ]
     },
     "execution_count": 45,
     "metadata": {},
     "output_type": "execute_result"
    }
   ],
   "source": [
    "v.measure()"
   ]
  },
  {
   "cell_type": "code",
   "execution_count": 46,
   "metadata": {},
   "outputs": [
    {
     "data": {
      "text/plain": [
       "{'0': 2834, '1': 7166}"
      ]
     },
     "metadata": {},
     "output_type": "display_data"
    },
    {
     "data": {
      "image/png": "[encoded data removed]",
      "text/plain": [
       "<Figure size 700x500 with 1 Axes>"
      ]
     },
     "execution_count": 46,
     "metadata": {},
     "output_type": "execute_result"
    }
   ],
   "source": [
    "# visualize by histogram\n",
    "from qiskit.visualization import plot_histogram\n",
    "\n",
    "statistics = v.sample_counts(10000)\n",
    "display(statistics)\n",
    "plot_histogram(statistics)"
   ]
  },
  {
   "cell_type": "code",
   "execution_count": 47,
   "metadata": {},
   "outputs": [
    {
     "name": "stdout",
     "output_type": "stream",
     "text": [
      "The empirical probability of outcome 0 is: 0.2834\n",
      "The empirical probability of outcome 1 is: 0.7166 \n",
      "\n",
      "The actual probability of outcome 0 is: 0.28571428571428575\n",
      "The actual probability of outcome 1 is: 0.7142857142857141\n"
     ]
    }
   ],
   "source": [
    "# let's calulate the actual probability vs the measured probabilities\n",
    "\n",
    "# empirical probabilities\n",
    "print(f'The empirical probability of outcome 0 is: {statistics['0']/10000}')\n",
    "print(f'The empirical probability of outcome 1 is: {statistics['1']/10000} \\n')\n",
    "\n",
    "# actual probabilities\n",
    "probabilities = v.probabilities()\n",
    "\n",
    "print(f'The actual probability of outcome 0 is: {probabilities[0]}')\n",
    "print(f'The actual probability of outcome 1 is: {probabilities[1]}')"
   ]
  },
  {
   "cell_type": "markdown",
   "metadata": {},
   "source": [
    "Using `Operator`"
   ]
  },
  {
   "cell_type": "code",
   "execution_count": 48,
   "metadata": {},
   "outputs": [
    {
     "data": {
      "text/plain": [
       "[ 0.85355339+0.35355339j,-0.35355339+0.14644661j]"
      ]
     },
     "execution_count": 48,
     "metadata": {},
     "output_type": "execute_result"
    }
   ],
   "source": [
    "from qiskit.quantum_info import Operator\n",
    "from numpy import sqrt\n",
    "\n",
    "X = Operator([[0, 1], [1, 0]])\n",
    "Y = Operator([[0, -1.0j], [1.0j, 0]])\n",
    "Z = Operator([[1, 0], [0, -1]])\n",
    "H = Operator([[1 / sqrt(2), 1 / sqrt(2)], [1 / sqrt(2), -1 / sqrt(2)]])\n",
    "S = Operator([[1, 0], [0, 1.0j]])\n",
    "T = Operator([[1, 0], [0, (1 + 1.0j) / sqrt(2)]])\n",
    "\n",
    "v = Statevector([1, 0])\n",
    "\n",
    "v = v.evolve(H)\n",
    "v = v.evolve(T)\n",
    "v = v.evolve(H)\n",
    "v = v.evolve(T)\n",
    "v = v.evolve(Z)\n",
    "\n",
    "v.draw(\"text\")"
   ]
  },
  {
   "cell_type": "markdown",
   "metadata": {},
   "source": [
    "Doing the same thing using a `Quantum Circuit`"
   ]
  },
  {
   "cell_type": "code",
   "execution_count": 49,
   "metadata": {},
   "outputs": [
    {
     "data": {
      "image/png": "[encoded data removed]",
      "text/plain": [
       "<Figure size 519.897x117.056 with 1 Axes>"
      ]
     },
     "execution_count": 49,
     "metadata": {},
     "output_type": "execute_result"
    }
   ],
   "source": [
    "from qiskit import QuantumCircuit\n",
    "\n",
    "# let us define the circuit first\n",
    "qc = QuantumCircuit(1)\n",
    "\n",
    "qc.h(0)\n",
    "qc.t(0)\n",
    "qc.h(0)\n",
    "qc.t(0)\n",
    "qc.z(0)\n",
    "\n",
    "qc.draw('mpl')"
   ]
  },
  {
   "cell_type": "code",
   "execution_count": 50,
   "metadata": {},
   "outputs": [
    {
     "data": {
      "text/plain": [
       "[ 0.85355339+0.35355339j,-0.35355339+0.14644661j]"
      ]
     },
     "execution_count": 50,
     "metadata": {},
     "output_type": "execute_result"
    }
   ],
   "source": [
    "# now we have to initialize the starting quantum state vector\n",
    "ket0 = Statevector([1,0])\n",
    "v = ket0.evolve(qc)\n",
    "v.draw('text')"
   ]
  },
  {
   "cell_type": "code",
   "execution_count": 51,
   "metadata": {},
   "outputs": [
    {
     "data": {
      "text/plain": [
       "{'0': 8496, '1': 1504}"
      ]
     },
     "metadata": {},
     "output_type": "display_data"
    },
    {
     "data": {
      "image/png": "[encoded data removed]",
      "text/plain": [
       "<Figure size 700x500 with 1 Axes>"
      ]
     },
     "execution_count": 51,
     "metadata": {},
     "output_type": "execute_result"
    }
   ],
   "source": [
    "statistics = v.sample_counts(10000)\n",
    "display(statistics)\n",
    "\n",
    "plot_histogram(statistics)"
   ]
  },
  {
   "cell_type": "markdown",
   "metadata": {},
   "source": [
    "## [Multiple systems](https://learning.quantum.ibm.com/course/basics-of-quantum-information/multiple-systems#qiskit-examples)"
   ]
  },
  {
   "cell_type": "markdown",
   "metadata": {},
   "source": [
    "State vactors can be initialized using labels"
   ]
  },
  {
   "cell_type": "markdown",
   "metadata": {},
   "source": [
    "### Tensor products"
   ]
  },
  {
   "cell_type": "code",
   "execution_count": 53,
   "metadata": {},
   "outputs": [
    {
     "data": {
      "text/latex": [
       "$$ |0\\rangle$$"
      ],
      "text/plain": [
       "<IPython.core.display.Latex object>"
      ]
     },
     "metadata": {},
     "output_type": "display_data"
    },
    {
     "data": {
      "text/latex": [
       "$$\\frac{\\sqrt{2}}{2} |0\\rangle+\\frac{\\sqrt{2}}{2} |1\\rangle$$"
      ],
      "text/plain": [
       "<IPython.core.display.Latex object>"
      ]
     },
     "metadata": {},
     "output_type": "display_data"
    },
    {
     "data": {
      "text/latex": [
       "$$\\frac{\\sqrt{2}}{2} |00\\rangle+\\frac{\\sqrt{2}}{2} |01\\rangle$$"
      ],
      "text/plain": [
       "<IPython.core.display.Latex object>"
      ]
     },
     "metadata": {},
     "output_type": "display_data"
    },
    {
     "data": {
      "text/latex": [
       "$$\n",
       "\n",
       "\\begin{bmatrix}\n",
       "0 & 0 & 0 & - i  \\\\\n",
       " 0 & 0 & i & 0  \\\\\n",
       " 0 & - i & 0 & 0  \\\\\n",
       " i & 0 & 0 & 0  \\\\\n",
       " \\end{bmatrix}\n",
       "$$"
      ],
      "text/plain": [
       "<IPython.core.display.Latex object>"
      ]
     },
     "metadata": {},
     "output_type": "display_data"
    },
    {
     "data": {
      "text/latex": [
       "$$- \\frac{\\sqrt{2} i}{2} |10\\rangle+\\frac{\\sqrt{2} i}{2} |11\\rangle$$"
      ],
      "text/plain": [
       "<IPython.core.display.Latex object>"
      ]
     },
     "metadata": {},
     "output_type": "display_data"
    },
    {
     "data": {
      "text/latex": [
       "$$\\frac{\\sqrt{2}}{2} |00\\rangle+\\frac{\\sqrt{2}}{2} |01\\rangle$$"
      ],
      "text/plain": [
       "<IPython.core.display.Latex object>"
      ]
     },
     "metadata": {},
     "output_type": "display_data"
    }
   ],
   "source": [
    "from qiskit import *\n",
    "ket0 = Statevector.from_label('0')\n",
    "ket_plus = Statevector.from_label('+')\n",
    "display(ket0.draw('latex'))\n",
    "display(ket_plus.draw('latex'))\n",
    "\n",
    "# now for multiparty system, we need to perform tensor product\n",
    "# tensor product of states\n",
    "psi = ket0.tensor(ket_plus)\n",
    "display(psi.draw('latex'))\n",
    "\n",
    "bra0 = ket0.conjugate()\n",
    "ket1 = Statevector.from_label('1')\n",
    "bra1 = ket1.conjugate()\n",
    "\n",
    "# tensor product of operators\n",
    "I = Operator.from_label('I')\n",
    "X = Operator.from_label('X')\n",
    "Y = Operator([[0, -1.0j], [1.0j, 0]])\n",
    "display(X.tensor(Y).draw('latex'))\n",
    "\n",
    "\n",
    "# evolve\n",
    "v = psi.evolve(X.tensor(Y))\n",
    "display(v.draw('latex'))\n",
    "\n",
    "# Controlled-X gate\n",
    "CX = Operator(\n",
    "    [\n",
    "        [1, 0, 0, 0],\n",
    "        [0, 1, 0, 0],\n",
    "        [0, 0, 0, 1],\n",
    "        [0, 0, 1, 0],\n",
    "    ]\n",
    ")\n",
    "\n",
    "display(psi.evolve(CX).draw(\"latex\"))"
   ]
  },
  {
   "cell_type": "markdown",
   "metadata": {},
   "source": [
    "## [Quantum Circuits](https://learning.quantum.ibm.com/course/basics-of-quantum-information/quantum-circuits#quantum-circuits)"
   ]
  },
  {
   "cell_type": "code",
   "execution_count": 79,
   "metadata": {},
   "outputs": [],
   "source": [
    "from qiskit import QuantumCircuit, QuantumRegister, ClassicalRegister\n",
    "from qiskit.primitives import Sampler\n",
    "from qiskit.visualization import plot_histogram"
   ]
  },
  {
   "cell_type": "code",
   "execution_count": 55,
   "metadata": {},
   "outputs": [
    {
     "data": {
      "image/png": "[encoded data removed]",
      "text/plain": [
       "<Figure size 519.897x117.056 with 1 Axes>"
      ]
     },
     "metadata": {},
     "output_type": "display_data"
    }
   ],
   "source": [
    "# let's create a quantum circuit with single quantum register\n",
    "qc = QuantumCircuit(1) # here 1 represents the number of qubits\n",
    "qc.h(0)\n",
    "qc.x(0)\n",
    "qc.t(0)\n",
    "qc.s(0)\n",
    "qc.y(0)\n",
    "\n",
    "display(qc.draw('mpl'))"
   ]
  },
  {
   "cell_type": "code",
   "execution_count": 62,
   "metadata": {},
   "outputs": [
    {
     "data": {
      "image/png": "[encoded data removed]",
      "text/plain": [
       "<Figure size 143.243x117.056 with 1 Axes>"
      ]
     },
     "metadata": {},
     "output_type": "display_data"
    }
   ],
   "source": [
    "# we can change the default name of quantum register\n",
    "register = QuantumRegister(1, \"a\") # here we name the register\n",
    "qc_a = QuantumCircuit(register) # then we convert the register to a quantum circuit\n",
    "display(qc_a.draw('mpl'))"
   ]
  },
  {
   "cell_type": "code",
   "execution_count": 63,
   "metadata": {},
   "outputs": [
    {
     "data": {
      "text/html": [
       "<pre style=\"word-wrap: normal;white-space: pre;background: #fff0;line-height: 1.1;font-family: &quot;Courier New&quot;,Courier,monospace\">   ┌───┐┌───┐┌───┐\n",
       "a: ┤ H ├┤ X ├┤ T ├\n",
       "   └───┘└───┘└───┘</pre>"
      ],
      "text/plain": [
       "   ┌───┐┌───┐┌───┐\n",
       "a: ┤ H ├┤ X ├┤ T ├\n",
       "   └───┘└───┘└───┘"
      ]
     },
     "metadata": {},
     "output_type": "display_data"
    }
   ],
   "source": [
    "qc_a.h(0)\n",
    "qc_a.x(0)\n",
    "qc_a.t(0)\n",
    "\n",
    "display(qc_a.draw('text'))"
   ]
  },
  {
   "cell_type": "code",
   "execution_count": 68,
   "metadata": {},
   "outputs": [
    {
     "data": {
      "image/png": "[encoded data removed]",
      "text/plain": [
       "<Figure size 270.66x200.667 with 1 Axes>"
      ]
     },
     "metadata": {},
     "output_type": "display_data"
    }
   ],
   "source": [
    "# another quantum circuit with 2 qubits\n",
    "register1 = QuantumRegister(1, \"Y\")\n",
    "register2 = QuantumRegister(1, \"X\")\n",
    "\n",
    "qc = QuantumCircuit(register1, register2)\n",
    "\n",
    "qc.h(0)\n",
    "qc.cx(0, 1)\n",
    "\n",
    "display(qc.draw('mpl'))"
   ]
  },
  {
   "cell_type": "code",
   "execution_count": 70,
   "metadata": {},
   "outputs": [
    {
     "data": {
      "image/png": "[encoded data removed]",
      "text/plain": [
       "<Figure size 437.882x367.889 with 1 Axes>"
      ]
     },
     "metadata": {},
     "output_type": "display_data"
    }
   ],
   "source": [
    "X = QuantumRegister(1, \"X\")\n",
    "Y = QuantumRegister(1, \"Y\")\n",
    "A = ClassicalRegister(1, \"A\")\n",
    "B = ClassicalRegister(1, \"B\")\n",
    "\n",
    "circuit = QuantumCircuit(Y, X, B, A)\n",
    "circuit.h(Y)\n",
    "circuit.cx(Y, X)\n",
    "circuit.measure(Y, B)\n",
    "circuit.measure(X, A)\n",
    "\n",
    "display(circuit.draw('mpl'))"
   ]
  },
  {
   "cell_type": "code",
   "execution_count": 87,
   "metadata": {},
   "outputs": [
    {
     "data": {
      "text/plain": [
       "{'00': 0.4999999999999999, '11': 0.4999999999999999}"
      ]
     },
     "metadata": {},
     "output_type": "display_data"
    },
    {
     "data": {
      "image/png": "[encoded data removed]",
      "text/plain": [
       "<Figure size 700x500 with 1 Axes>"
      ]
     },
     "metadata": {},
     "output_type": "display_data"
    }
   ],
   "source": [
    "# learning about sampler primitive\n",
    "results = Sampler().run(circuit).result()\n",
    "# print(Sampler().run(circuit))\n",
    "statistics = results.quasi_dists[0].binary_probabilities()\n",
    "display(statistics)\n",
    "display(plot_histogram(statistics))"
   ]
  },
  {
   "cell_type": "code",
   "execution_count": 95,
   "metadata": {},
   "outputs": [
    {
     "data": {
      "image/png": "[encoded data removed]",
      "text/plain": [
       "<Figure size 437.882x200.667 with 1 Axes>"
      ]
     },
     "metadata": {},
     "output_type": "display_data"
    }
   ],
   "source": [
    "reg_1 = QuantumRegister(1, \"X\")\n",
    "reg_2 = QuantumRegister(1, \"Y\")\n",
    "\n",
    "circuit = QuantumCircuit(reg_2, reg_1)\n",
    "circuit.h(0)\n",
    "circuit.cx(0,1)\n",
    "circuit.y(1)\n",
    "circuit.swap(0,1)\n",
    "\n",
    "display(circuit.draw('mpl'))"
   ]
  },
  {
   "cell_type": "markdown",
   "metadata": {},
   "source": [
    "## [Entanglement in action](https://learning.quantum.ibm.com/course/basics-of-quantum-information/entanglement-in-action#qiskit-implementation)"
   ]
  },
  {
   "cell_type": "code",
   "execution_count": null,
   "metadata": {},
   "outputs": [],
   "source": []
  }
 ],
 "metadata": {
  "kernelspec": {
   "display_name": "qiskit",
   "language": "python",
   "name": "python3"
  },
  "language_info": {
   "codemirror_mode": {
    "name": "ipython",
    "version": 3
   },
   "file_extension": ".py",
   "mimetype": "text/x-python",
   "name": "python",
   "nbconvert_exporter": "python",
   "pygments_lexer": "ipython3",
   "version": "3.12.3"
  }
 },
 "nbformat": 4,
 "nbformat_minor": 2
}
