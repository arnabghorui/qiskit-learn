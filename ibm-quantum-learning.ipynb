{
 "cells": [
  {
   "cell_type": "markdown",
   "metadata": {},
   "source": [
    "# The examples are from [IBM Quantum Learning](https://learning.quantum.ibm.com/)"
   ]
  },
  {
   "cell_type": "markdown",
   "metadata": {},
   "source": [
    "## [Single Systems](https://learning.quantum.ibm.com/course/basics-of-quantum-information/single-systems#qiskit-examples)"
   ]
  },
  {
   "cell_type": "markdown",
   "metadata": {},
   "source": [
    "### State vectors"
   ]
  },
  {
   "cell_type": "code",
   "execution_count": 2,
   "metadata": {},
   "outputs": [],
   "source": [
    "from qiskit.quantum_info import Statevector\n",
    "import numpy as np"
   ]
  },
  {
   "cell_type": "code",
   "execution_count": 3,
   "metadata": {},
   "outputs": [],
   "source": [
    "u = Statevector([1, 0])\n",
    "v = Statevector([0, 1])\n",
    "w = Statevector([1/np.sqrt(2), 1/np.sqrt(2)])\n",
    "x = Statevector([1/np.sqrt(2), 0])"
   ]
  },
  {
   "cell_type": "code",
   "execution_count": 4,
   "metadata": {},
   "outputs": [
    {
     "data": {
      "text/latex": [
       "$$ |0\\rangle$$"
      ],
      "text/plain": [
       "<IPython.core.display.Latex object>"
      ]
     },
     "metadata": {},
     "output_type": "display_data"
    },
    {
     "data": {
      "text/latex": [
       "$$ |1\\rangle$$"
      ],
      "text/plain": [
       "<IPython.core.display.Latex object>"
      ]
     },
     "metadata": {},
     "output_type": "display_data"
    },
    {
     "data": {
      "text/latex": [
       "$$\\frac{\\sqrt{2}}{2} |0\\rangle+\\frac{\\sqrt{2}}{2} |1\\rangle$$"
      ],
      "text/plain": [
       "<IPython.core.display.Latex object>"
      ]
     },
     "metadata": {},
     "output_type": "display_data"
    },
    {
     "data": {
      "text/latex": [
       "$$\\frac{\\sqrt{2}}{2} |0\\rangle$$"
      ],
      "text/plain": [
       "<IPython.core.display.Latex object>"
      ]
     },
     "metadata": {},
     "output_type": "display_data"
    }
   ],
   "source": [
    "display(u.draw('latex'))\n",
    "display(v.draw('latex'))\n",
    "display(w.draw('latex'))\n",
    "display(x.draw('latex'))"
   ]
  },
  {
   "cell_type": "markdown",
   "metadata": {},
   "source": [
    "Check if these states are valid"
   ]
  },
  {
   "cell_type": "code",
   "execution_count": 10,
   "metadata": {},
   "outputs": [
    {
     "name": "stdout",
     "output_type": "stream",
     "text": [
      "Is u a valid state?: True\n",
      "Is x a valid state?: False\n"
     ]
    }
   ],
   "source": [
    "print(f'Is u a valid state?: {u.is_valid()}')\n",
    "print(f'Is x a valid state?: {x.is_valid()}')\n",
    "\n",
    "# is_valid checks if the vectors have norm 1"
   ]
  },
  {
   "cell_type": "markdown",
   "metadata": {},
   "source": [
    "### Simulating measurements"
   ]
  },
  {
   "cell_type": "code",
   "execution_count": 45,
   "metadata": {},
   "outputs": [
    {
     "data": {
      "text/latex": [
       "$$(0.1690308509 + 0.5070925528 i) |0\\rangle- \\frac{\\sqrt{35}}{7} |1\\rangle$$"
      ],
      "text/plain": [
       "<IPython.core.display.Latex object>"
      ]
     },
     "execution_count": 45,
     "metadata": {},
     "output_type": "execute_result"
    }
   ],
   "source": [
    "# create a state v\n",
    "v = Statevector([1+3.0j, -5]/np.sqrt(35))\n",
    "v.draw('latex')"
   ]
  },
  {
   "cell_type": "code",
   "execution_count": 46,
   "metadata": {},
   "outputs": [
    {
     "data": {
      "text/plain": [
       "('1',\n",
       " Statevector([ 0.+0.j, -1.+0.j],\n",
       "             dims=(2,)))"
      ]
     },
     "execution_count": 46,
     "metadata": {},
     "output_type": "execute_result"
    }
   ],
   "source": [
    "v.measure()"
   ]
  },
  {
   "cell_type": "code",
   "execution_count": 48,
   "metadata": {},
   "outputs": [
    {
     "data": {
      "text/plain": [
       "{'0': 2789, '1': 7211}"
      ]
     },
     "metadata": {},
     "output_type": "display_data"
    },
    {
     "data": {
      "image/png": "[encoded data removed]",
      "text/plain": [
       "<Figure size 640x480 with 1 Axes>"
      ]
     },
     "execution_count": 48,
     "metadata": {},
     "output_type": "execute_result"
    }
   ],
   "source": [
    "# visualize by histogram\n",
    "from qiskit.visualization import plot_histogram\n",
    "\n",
    "statistics = v.sample_counts(10000)\n",
    "display(statistics)\n",
    "plot_histogram(statistics)"
   ]
  },
  {
   "cell_type": "code",
   "execution_count": 58,
   "metadata": {},
   "outputs": [
    {
     "name": "stdout",
     "output_type": "stream",
     "text": [
      "The empirical probability of outcome 0 is: 0.2789\n",
      "The empirical probability of outcome 1 is: 0.7211 \n",
      "\n",
      "The actual probability of outcome 0 is: 0.28571428571428575\n",
      "The actual probability of outcome 1 is: 0.7142857142857141\n"
     ]
    }
   ],
   "source": [
    "# let's calulate the actual probability vs the measured probabilities\n",
    "\n",
    "# empirical probabilities\n",
    "print(f'The empirical probability of outcome 0 is: {statistics['0']/10000}')\n",
    "print(f'The empirical probability of outcome 1 is: {statistics['1']/10000} \\n')\n",
    "\n",
    "# actual probabilities\n",
    "probabilities = v.probabilities()\n",
    "\n",
    "print(f'The actual probability of outcome 0 is: {probabilities[0]}')\n",
    "print(f'The actual probability of outcome 1 is: {probabilities[1]}')"
   ]
  },
  {
   "cell_type": "markdown",
   "metadata": {},
   "source": [
    "Using `Operator`"
   ]
  },
  {
   "cell_type": "code",
   "execution_count": 63,
   "metadata": {},
   "outputs": [
    {
     "data": {
      "text/latex": [
       "$$(0.8535533906 + 0.3535533906 i) |0\\rangle+(-0.3535533906 + 0.1464466094 i) |1\\rangle$$"
      ],
      "text/plain": [
       "<IPython.core.display.Latex object>"
      ]
     },
     "execution_count": 63,
     "metadata": {},
     "output_type": "execute_result"
    }
   ],
   "source": [
    "from qiskit.quantum_info import Operator\n",
    "from numpy import sqrt\n",
    "\n",
    "X = Operator([[0, 1], [1, 0]])\n",
    "Y = Operator([[0, -1.0j], [1.0j, 0]])\n",
    "Z = Operator([[1, 0], [0, -1]])\n",
    "H = Operator([[1 / sqrt(2), 1 / sqrt(2)], [1 / sqrt(2), -1 / sqrt(2)]])\n",
    "S = Operator([[1, 0], [0, 1.0j]])\n",
    "T = Operator([[1, 0], [0, (1 + 1.0j) / sqrt(2)]])\n",
    "\n",
    "v = Statevector([1, 0])\n",
    "\n",
    "v = v.evolve(H)\n",
    "v = v.evolve(T)\n",
    "v = v.evolve(H)\n",
    "v = v.evolve(T)\n",
    "v = v.evolve(Z)\n",
    "\n",
    "v.draw(\"latex\")"
   ]
  },
  {
   "cell_type": "markdown",
   "metadata": {},
   "source": [
    "Doing the same thing using a `Quantum Circuit`"
   ]
  },
  {
   "cell_type": "code",
   "execution_count": null,
   "metadata": {},
   "outputs": [],
   "source": []
  }
 ],
 "metadata": {
  "kernelspec": {
   "display_name": "qiskit",
   "language": "python",
   "name": "python3"
  },
  "language_info": {
   "codemirror_mode": {
    "name": "ipython",
    "version": 3
   },
   "file_extension": ".py",
   "mimetype": "text/x-python",
   "name": "python",
   "nbconvert_exporter": "python",
   "pygments_lexer": "ipython3",
   "version": "3.12.3"
  }
 },
 "nbformat": 4,
 "nbformat_minor": 2
}
