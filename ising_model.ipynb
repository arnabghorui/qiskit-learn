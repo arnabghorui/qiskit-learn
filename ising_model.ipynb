{
 "cells": [
  {
   "cell_type": "code",
   "execution_count": 1,
   "metadata": {},
   "outputs": [],
   "source": [
    "import numpy as np\n",
    "import qutip\n",
    "import matplotlib.pyplot as plt"
   ]
  },
  {
   "cell_type": "markdown",
   "metadata": {},
   "source": [
    "# Transverse field Ising model hamiltonian\n",
    "$$\n",
    "H = -\\Gamma \\sum_i S^x_i -\\frac{1}{2} \\sum_{i,j} J_{ij}S_i^z S_j^z\n",
    "$$\n",
    "Here, $S^x = \\begin{pmatrix}\n",
    "                0 & 1 \\\\\n",
    "                1 & 0\n",
    "            \\end{pmatrix}$ and $S^z = \\begin{pmatrix}\n",
    "                1 & 0 \\\\\n",
    "                0 & -1\n",
    "            \\end{pmatrix}$, _Pauli operators_.\n",
    "\n",
    "_Ref:_ [The Ising model with a transverse field - II ground state properties](https://doi.org/10.1088/0022-3719%2F4%2F15%2F024)\n",
    "\n",
    "$i,j$ are number of lattice sites."
   ]
  },
  {
   "cell_type": "code",
   "execution_count": null,
   "metadata": {},
   "outputs": [],
   "source": [
    "Gamma = 1.0\n"
   ]
  }
 ],
 "metadata": {
  "kernelspec": {
   "display_name": "qiskit",
   "language": "python",
   "name": "python3"
  },
  "language_info": {
   "codemirror_mode": {
    "name": "ipython",
    "version": 3
   },
   "file_extension": ".py",
   "mimetype": "text/x-python",
   "name": "python",
   "nbconvert_exporter": "python",
   "pygments_lexer": "ipython3",
   "version": "3.12.4"
  }
 },
 "nbformat": 4,
 "nbformat_minor": 2
}
